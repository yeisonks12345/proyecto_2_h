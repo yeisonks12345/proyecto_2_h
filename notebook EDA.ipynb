{
  "nbformat": 4,
  "nbformat_minor": 0,
  "metadata": {
    "colab": {
      "provenance": []
    },
    "kernelspec": {
      "name": "python3",
      "display_name": "Python 3"
    },
    "language_info": {
      "name": "python"
    }
  },
  "cells": [
    {
      "cell_type": "code",
      "execution_count": null,
      "metadata": {
        "id": "Q5SqPTM-V8lb"
      },
      "outputs": [],
      "source": [
        "import pandas as pd\n",
        "import matplotlib.pyplot as plt\n",
        "import seaborn as sns\n",
        "import numpy as np"
      ]
    },
    {
      "cell_type": "markdown",
      "source": [
        "Leemos el data frame de acceso a internet fijo por tecnologia"
      ],
      "metadata": {
        "id": "Z6TpnVdcWxDK"
      }
    },
    {
      "cell_type": "code",
      "source": [
        "df1 = pd.read_csv('/content/AccesosaInternetfijoportecnologiaylocalidad_2791751688614976172.csv',sep=';')"
      ],
      "metadata": {
        "id": "QlK2iaV9WHVr"
      },
      "execution_count": null,
      "outputs": []
    },
    {
      "cell_type": "code",
      "source": [
        "df1.head()# vemos los primeros 5 registros"
      ],
      "metadata": {
        "colab": {
          "base_uri": "https://localhost:8080/",
          "height": 374
        },
        "id": "AqLOIGyTWNMP",
        "outputId": "0f26b86b-7fbd-475e-86ea-4e47af416a96"
      },
      "execution_count": null,
      "outputs": [
        {
          "output_type": "execute_result",
          "data": {
            "text/plain": [
              "      Provincia     Partido               Localidad Link Indec  ADSL  \\\n",
              "0  BUENOS AIRES  25 de Mayo              25 de Mayo    6854100   873   \n",
              "1  BUENOS AIRES  25 de Mayo               Del Valle    6854020   181   \n",
              "2  BUENOS AIRES  25 de Mayo       Gobernador Ugarte    6854040     0   \n",
              "3  BUENOS AIRES  25 de Mayo  Norberto de la Riestra    6854060     0   \n",
              "4  BUENOS AIRES  25 de Mayo        Lucas Monteverde    6854050     0   \n",
              "\n",
              "   CABLEMODEM  DIAL UP  FIBRA OPTICA  OTROS  SATELITAL  WIMAX  WIRELESS  \\\n",
              "0        4704        0             2      0        975      0       664   \n",
              "1           0        0             0     10          1      0         0   \n",
              "2           0        0             0      0          0      0       181   \n",
              "3         782        0             6    167          0      0       327   \n",
              "4           0        0             0      0          0      0         6   \n",
              "\n",
              "   Total general  \n",
              "0           7218  \n",
              "1            192  \n",
              "2            181  \n",
              "3           1282  \n",
              "4              6  "
            ],
            "text/html": [
              "\n",
              "  <div id=\"df-2bf7c8cb-b4ce-4bc7-9c93-2db685a4f4f7\">\n",
              "    <div class=\"colab-df-container\">\n",
              "      <div>\n",
              "<style scoped>\n",
              "    .dataframe tbody tr th:only-of-type {\n",
              "        vertical-align: middle;\n",
              "    }\n",
              "\n",
              "    .dataframe tbody tr th {\n",
              "        vertical-align: top;\n",
              "    }\n",
              "\n",
              "    .dataframe thead th {\n",
              "        text-align: right;\n",
              "    }\n",
              "</style>\n",
              "<table border=\"1\" class=\"dataframe\">\n",
              "  <thead>\n",
              "    <tr style=\"text-align: right;\">\n",
              "      <th></th>\n",
              "      <th>Provincia</th>\n",
              "      <th>Partido</th>\n",
              "      <th>Localidad</th>\n",
              "      <th>Link Indec</th>\n",
              "      <th>ADSL</th>\n",
              "      <th>CABLEMODEM</th>\n",
              "      <th>DIAL UP</th>\n",
              "      <th>FIBRA OPTICA</th>\n",
              "      <th>OTROS</th>\n",
              "      <th>SATELITAL</th>\n",
              "      <th>WIMAX</th>\n",
              "      <th>WIRELESS</th>\n",
              "      <th>Total general</th>\n",
              "    </tr>\n",
              "  </thead>\n",
              "  <tbody>\n",
              "    <tr>\n",
              "      <th>0</th>\n",
              "      <td>BUENOS AIRES</td>\n",
              "      <td>25 de Mayo</td>\n",
              "      <td>25 de Mayo</td>\n",
              "      <td>6854100</td>\n",
              "      <td>873</td>\n",
              "      <td>4704</td>\n",
              "      <td>0</td>\n",
              "      <td>2</td>\n",
              "      <td>0</td>\n",
              "      <td>975</td>\n",
              "      <td>0</td>\n",
              "      <td>664</td>\n",
              "      <td>7218</td>\n",
              "    </tr>\n",
              "    <tr>\n",
              "      <th>1</th>\n",
              "      <td>BUENOS AIRES</td>\n",
              "      <td>25 de Mayo</td>\n",
              "      <td>Del Valle</td>\n",
              "      <td>6854020</td>\n",
              "      <td>181</td>\n",
              "      <td>0</td>\n",
              "      <td>0</td>\n",
              "      <td>0</td>\n",
              "      <td>10</td>\n",
              "      <td>1</td>\n",
              "      <td>0</td>\n",
              "      <td>0</td>\n",
              "      <td>192</td>\n",
              "    </tr>\n",
              "    <tr>\n",
              "      <th>2</th>\n",
              "      <td>BUENOS AIRES</td>\n",
              "      <td>25 de Mayo</td>\n",
              "      <td>Gobernador Ugarte</td>\n",
              "      <td>6854040</td>\n",
              "      <td>0</td>\n",
              "      <td>0</td>\n",
              "      <td>0</td>\n",
              "      <td>0</td>\n",
              "      <td>0</td>\n",
              "      <td>0</td>\n",
              "      <td>0</td>\n",
              "      <td>181</td>\n",
              "      <td>181</td>\n",
              "    </tr>\n",
              "    <tr>\n",
              "      <th>3</th>\n",
              "      <td>BUENOS AIRES</td>\n",
              "      <td>25 de Mayo</td>\n",
              "      <td>Norberto de la Riestra</td>\n",
              "      <td>6854060</td>\n",
              "      <td>0</td>\n",
              "      <td>782</td>\n",
              "      <td>0</td>\n",
              "      <td>6</td>\n",
              "      <td>167</td>\n",
              "      <td>0</td>\n",
              "      <td>0</td>\n",
              "      <td>327</td>\n",
              "      <td>1282</td>\n",
              "    </tr>\n",
              "    <tr>\n",
              "      <th>4</th>\n",
              "      <td>BUENOS AIRES</td>\n",
              "      <td>25 de Mayo</td>\n",
              "      <td>Lucas Monteverde</td>\n",
              "      <td>6854050</td>\n",
              "      <td>0</td>\n",
              "      <td>0</td>\n",
              "      <td>0</td>\n",
              "      <td>0</td>\n",
              "      <td>0</td>\n",
              "      <td>0</td>\n",
              "      <td>0</td>\n",
              "      <td>6</td>\n",
              "      <td>6</td>\n",
              "    </tr>\n",
              "  </tbody>\n",
              "</table>\n",
              "</div>\n",
              "      <button class=\"colab-df-convert\" onclick=\"convertToInteractive('df-2bf7c8cb-b4ce-4bc7-9c93-2db685a4f4f7')\"\n",
              "              title=\"Convert this dataframe to an interactive table.\"\n",
              "              style=\"display:none;\">\n",
              "        \n",
              "  <svg xmlns=\"http://www.w3.org/2000/svg\" height=\"24px\"viewBox=\"0 0 24 24\"\n",
              "       width=\"24px\">\n",
              "    <path d=\"M0 0h24v24H0V0z\" fill=\"none\"/>\n",
              "    <path d=\"M18.56 5.44l.94 2.06.94-2.06 2.06-.94-2.06-.94-.94-2.06-.94 2.06-2.06.94zm-11 1L8.5 8.5l.94-2.06 2.06-.94-2.06-.94L8.5 2.5l-.94 2.06-2.06.94zm10 10l.94 2.06.94-2.06 2.06-.94-2.06-.94-.94-2.06-.94 2.06-2.06.94z\"/><path d=\"M17.41 7.96l-1.37-1.37c-.4-.4-.92-.59-1.43-.59-.52 0-1.04.2-1.43.59L10.3 9.45l-7.72 7.72c-.78.78-.78 2.05 0 2.83L4 21.41c.39.39.9.59 1.41.59.51 0 1.02-.2 1.41-.59l7.78-7.78 2.81-2.81c.8-.78.8-2.07 0-2.86zM5.41 20L4 18.59l7.72-7.72 1.47 1.35L5.41 20z\"/>\n",
              "  </svg>\n",
              "      </button>\n",
              "      \n",
              "  <style>\n",
              "    .colab-df-container {\n",
              "      display:flex;\n",
              "      flex-wrap:wrap;\n",
              "      gap: 12px;\n",
              "    }\n",
              "\n",
              "    .colab-df-convert {\n",
              "      background-color: #E8F0FE;\n",
              "      border: none;\n",
              "      border-radius: 50%;\n",
              "      cursor: pointer;\n",
              "      display: none;\n",
              "      fill: #1967D2;\n",
              "      height: 32px;\n",
              "      padding: 0 0 0 0;\n",
              "      width: 32px;\n",
              "    }\n",
              "\n",
              "    .colab-df-convert:hover {\n",
              "      background-color: #E2EBFA;\n",
              "      box-shadow: 0px 1px 2px rgba(60, 64, 67, 0.3), 0px 1px 3px 1px rgba(60, 64, 67, 0.15);\n",
              "      fill: #174EA6;\n",
              "    }\n",
              "\n",
              "    [theme=dark] .colab-df-convert {\n",
              "      background-color: #3B4455;\n",
              "      fill: #D2E3FC;\n",
              "    }\n",
              "\n",
              "    [theme=dark] .colab-df-convert:hover {\n",
              "      background-color: #434B5C;\n",
              "      box-shadow: 0px 1px 3px 1px rgba(0, 0, 0, 0.15);\n",
              "      filter: drop-shadow(0px 1px 2px rgba(0, 0, 0, 0.3));\n",
              "      fill: #FFFFFF;\n",
              "    }\n",
              "  </style>\n",
              "\n",
              "      <script>\n",
              "        const buttonEl =\n",
              "          document.querySelector('#df-2bf7c8cb-b4ce-4bc7-9c93-2db685a4f4f7 button.colab-df-convert');\n",
              "        buttonEl.style.display =\n",
              "          google.colab.kernel.accessAllowed ? 'block' : 'none';\n",
              "\n",
              "        async function convertToInteractive(key) {\n",
              "          const element = document.querySelector('#df-2bf7c8cb-b4ce-4bc7-9c93-2db685a4f4f7');\n",
              "          const dataTable =\n",
              "            await google.colab.kernel.invokeFunction('convertToInteractive',\n",
              "                                                     [key], {});\n",
              "          if (!dataTable) return;\n",
              "\n",
              "          const docLinkHtml = 'Like what you see? Visit the ' +\n",
              "            '<a target=\"_blank\" href=https://colab.research.google.com/notebooks/data_table.ipynb>data table notebook</a>'\n",
              "            + ' to learn more about interactive tables.';\n",
              "          element.innerHTML = '';\n",
              "          dataTable['output_type'] = 'display_data';\n",
              "          await google.colab.output.renderOutput(dataTable, element);\n",
              "          const docLink = document.createElement('div');\n",
              "          docLink.innerHTML = docLinkHtml;\n",
              "          element.appendChild(docLink);\n",
              "        }\n",
              "      </script>\n",
              "    </div>\n",
              "  </div>\n",
              "  "
            ]
          },
          "metadata": {},
          "execution_count": 4
        }
      ]
    },
    {
      "cell_type": "code",
      "source": [
        "df1.info() # analizamos el tipo de dato de cada variable, no es neceario hacer transfomaciones."
      ],
      "metadata": {
        "colab": {
          "base_uri": "https://localhost:8080/"
        },
        "id": "4EUndOf8WcDk",
        "outputId": "783ed03e-140d-4878-943c-d771df7a20d0"
      },
      "execution_count": null,
      "outputs": [
        {
          "output_type": "stream",
          "name": "stdout",
          "text": [
            "<class 'pandas.core.frame.DataFrame'>\n",
            "RangeIndex: 3142 entries, 0 to 3141\n",
            "Data columns (total 13 columns):\n",
            " #   Column         Non-Null Count  Dtype \n",
            "---  ------         --------------  ----- \n",
            " 0   Provincia      3142 non-null   object\n",
            " 1   Partido        3142 non-null   object\n",
            " 2   Localidad      3142 non-null   object\n",
            " 3   Link Indec     3142 non-null   object\n",
            " 4   ADSL           3142 non-null   int64 \n",
            " 5   CABLEMODEM     3142 non-null   int64 \n",
            " 6   DIAL UP        3142 non-null   int64 \n",
            " 7   FIBRA OPTICA   3142 non-null   int64 \n",
            " 8   OTROS          3142 non-null   int64 \n",
            " 9   SATELITAL      3142 non-null   int64 \n",
            " 10  WIMAX          3142 non-null   int64 \n",
            " 11  WIRELESS       3142 non-null   int64 \n",
            " 12  Total general  3142 non-null   int64 \n",
            "dtypes: int64(9), object(4)\n",
            "memory usage: 319.2+ KB\n"
          ]
        }
      ]
    },
    {
      "cell_type": "markdown",
      "source": [
        "Analizamos por provincia la distribución por tecnologia y el total general de accesos"
      ],
      "metadata": {
        "id": "fqoLyKIBXdBc"
      }
    },
    {
      "cell_type": "code",
      "source": [
        "tecnologia_provincia=df1[['Provincia','ADSL','CABLEMODEM','DIAL UP','FIBRA OPTICA','SATELITAL','WIMAX','WIRELESS','OTROS','Total general']].groupby('Provincia').sum().reset_index().sort_values(by='Total general',ascending=False)"
      ],
      "metadata": {
        "id": "cDYzKm_kXCqs"
      },
      "execution_count": null,
      "outputs": []
    },
    {
      "cell_type": "markdown",
      "source": [
        "En la tabla se puede observar que las cinco provincias con mayor acceso de internet son: BUENOS AIRES, CABA,CORDOBA, SANTAFE, MENDOZA"
      ],
      "metadata": {
        "id": "tcCAFqh6GXkp"
      }
    },
    {
      "cell_type": "code",
      "source": [
        "tecnologia_provincia.head(5)"
      ],
      "metadata": {
        "colab": {
          "base_uri": "https://localhost:8080/",
          "height": 285
        },
        "id": "9_HIbgfVZr5u",
        "outputId": "ac3eda6a-8ea3-445e-e334-3e71ebadd020"
      },
      "execution_count": null,
      "outputs": [
        {
          "output_type": "execute_result",
          "data": {
            "text/plain": [
              "       Provincia    ADSL  CABLEMODEM  DIAL UP  FIBRA OPTICA  SATELITAL  WIMAX  \\\n",
              "0   Buenos Aires  339648     2748325     6199       1436433       1307   1672   \n",
              "1           Caba  140791     1240125     2145        129218         57      0   \n",
              "5        Cordoba  163770      465461       68        338570        100     58   \n",
              "20      Santa Fe  183740      426255      110        215189        137      0   \n",
              "12       Mendoza   37659       78858      777        142615         50      0   \n",
              "\n",
              "    WIRELESS  OTROS  Total general  \n",
              "0     126846  61238        4721668  \n",
              "1       5758  29585        1547679  \n",
              "5      61070   9571        1038668  \n",
              "20     43079  19300         887810  \n",
              "12     27625   1939         289523  "
            ],
            "text/html": [
              "\n",
              "  <div id=\"df-4d04dec5-4c74-4d13-9e13-5aba70fb2039\">\n",
              "    <div class=\"colab-df-container\">\n",
              "      <div>\n",
              "<style scoped>\n",
              "    .dataframe tbody tr th:only-of-type {\n",
              "        vertical-align: middle;\n",
              "    }\n",
              "\n",
              "    .dataframe tbody tr th {\n",
              "        vertical-align: top;\n",
              "    }\n",
              "\n",
              "    .dataframe thead th {\n",
              "        text-align: right;\n",
              "    }\n",
              "</style>\n",
              "<table border=\"1\" class=\"dataframe\">\n",
              "  <thead>\n",
              "    <tr style=\"text-align: right;\">\n",
              "      <th></th>\n",
              "      <th>Provincia</th>\n",
              "      <th>ADSL</th>\n",
              "      <th>CABLEMODEM</th>\n",
              "      <th>DIAL UP</th>\n",
              "      <th>FIBRA OPTICA</th>\n",
              "      <th>SATELITAL</th>\n",
              "      <th>WIMAX</th>\n",
              "      <th>WIRELESS</th>\n",
              "      <th>OTROS</th>\n",
              "      <th>Total general</th>\n",
              "    </tr>\n",
              "  </thead>\n",
              "  <tbody>\n",
              "    <tr>\n",
              "      <th>0</th>\n",
              "      <td>Buenos Aires</td>\n",
              "      <td>339648</td>\n",
              "      <td>2748325</td>\n",
              "      <td>6199</td>\n",
              "      <td>1436433</td>\n",
              "      <td>1307</td>\n",
              "      <td>1672</td>\n",
              "      <td>126846</td>\n",
              "      <td>61238</td>\n",
              "      <td>4721668</td>\n",
              "    </tr>\n",
              "    <tr>\n",
              "      <th>1</th>\n",
              "      <td>Caba</td>\n",
              "      <td>140791</td>\n",
              "      <td>1240125</td>\n",
              "      <td>2145</td>\n",
              "      <td>129218</td>\n",
              "      <td>57</td>\n",
              "      <td>0</td>\n",
              "      <td>5758</td>\n",
              "      <td>29585</td>\n",
              "      <td>1547679</td>\n",
              "    </tr>\n",
              "    <tr>\n",
              "      <th>5</th>\n",
              "      <td>Cordoba</td>\n",
              "      <td>163770</td>\n",
              "      <td>465461</td>\n",
              "      <td>68</td>\n",
              "      <td>338570</td>\n",
              "      <td>100</td>\n",
              "      <td>58</td>\n",
              "      <td>61070</td>\n",
              "      <td>9571</td>\n",
              "      <td>1038668</td>\n",
              "    </tr>\n",
              "    <tr>\n",
              "      <th>20</th>\n",
              "      <td>Santa Fe</td>\n",
              "      <td>183740</td>\n",
              "      <td>426255</td>\n",
              "      <td>110</td>\n",
              "      <td>215189</td>\n",
              "      <td>137</td>\n",
              "      <td>0</td>\n",
              "      <td>43079</td>\n",
              "      <td>19300</td>\n",
              "      <td>887810</td>\n",
              "    </tr>\n",
              "    <tr>\n",
              "      <th>12</th>\n",
              "      <td>Mendoza</td>\n",
              "      <td>37659</td>\n",
              "      <td>78858</td>\n",
              "      <td>777</td>\n",
              "      <td>142615</td>\n",
              "      <td>50</td>\n",
              "      <td>0</td>\n",
              "      <td>27625</td>\n",
              "      <td>1939</td>\n",
              "      <td>289523</td>\n",
              "    </tr>\n",
              "  </tbody>\n",
              "</table>\n",
              "</div>\n",
              "      <button class=\"colab-df-convert\" onclick=\"convertToInteractive('df-4d04dec5-4c74-4d13-9e13-5aba70fb2039')\"\n",
              "              title=\"Convert this dataframe to an interactive table.\"\n",
              "              style=\"display:none;\">\n",
              "        \n",
              "  <svg xmlns=\"http://www.w3.org/2000/svg\" height=\"24px\"viewBox=\"0 0 24 24\"\n",
              "       width=\"24px\">\n",
              "    <path d=\"M0 0h24v24H0V0z\" fill=\"none\"/>\n",
              "    <path d=\"M18.56 5.44l.94 2.06.94-2.06 2.06-.94-2.06-.94-.94-2.06-.94 2.06-2.06.94zm-11 1L8.5 8.5l.94-2.06 2.06-.94-2.06-.94L8.5 2.5l-.94 2.06-2.06.94zm10 10l.94 2.06.94-2.06 2.06-.94-2.06-.94-.94-2.06-.94 2.06-2.06.94z\"/><path d=\"M17.41 7.96l-1.37-1.37c-.4-.4-.92-.59-1.43-.59-.52 0-1.04.2-1.43.59L10.3 9.45l-7.72 7.72c-.78.78-.78 2.05 0 2.83L4 21.41c.39.39.9.59 1.41.59.51 0 1.02-.2 1.41-.59l7.78-7.78 2.81-2.81c.8-.78.8-2.07 0-2.86zM5.41 20L4 18.59l7.72-7.72 1.47 1.35L5.41 20z\"/>\n",
              "  </svg>\n",
              "      </button>\n",
              "      \n",
              "  <style>\n",
              "    .colab-df-container {\n",
              "      display:flex;\n",
              "      flex-wrap:wrap;\n",
              "      gap: 12px;\n",
              "    }\n",
              "\n",
              "    .colab-df-convert {\n",
              "      background-color: #E8F0FE;\n",
              "      border: none;\n",
              "      border-radius: 50%;\n",
              "      cursor: pointer;\n",
              "      display: none;\n",
              "      fill: #1967D2;\n",
              "      height: 32px;\n",
              "      padding: 0 0 0 0;\n",
              "      width: 32px;\n",
              "    }\n",
              "\n",
              "    .colab-df-convert:hover {\n",
              "      background-color: #E2EBFA;\n",
              "      box-shadow: 0px 1px 2px rgba(60, 64, 67, 0.3), 0px 1px 3px 1px rgba(60, 64, 67, 0.15);\n",
              "      fill: #174EA6;\n",
              "    }\n",
              "\n",
              "    [theme=dark] .colab-df-convert {\n",
              "      background-color: #3B4455;\n",
              "      fill: #D2E3FC;\n",
              "    }\n",
              "\n",
              "    [theme=dark] .colab-df-convert:hover {\n",
              "      background-color: #434B5C;\n",
              "      box-shadow: 0px 1px 3px 1px rgba(0, 0, 0, 0.15);\n",
              "      filter: drop-shadow(0px 1px 2px rgba(0, 0, 0, 0.3));\n",
              "      fill: #FFFFFF;\n",
              "    }\n",
              "  </style>\n",
              "\n",
              "      <script>\n",
              "        const buttonEl =\n",
              "          document.querySelector('#df-4d04dec5-4c74-4d13-9e13-5aba70fb2039 button.colab-df-convert');\n",
              "        buttonEl.style.display =\n",
              "          google.colab.kernel.accessAllowed ? 'block' : 'none';\n",
              "\n",
              "        async function convertToInteractive(key) {\n",
              "          const element = document.querySelector('#df-4d04dec5-4c74-4d13-9e13-5aba70fb2039');\n",
              "          const dataTable =\n",
              "            await google.colab.kernel.invokeFunction('convertToInteractive',\n",
              "                                                     [key], {});\n",
              "          if (!dataTable) return;\n",
              "\n",
              "          const docLinkHtml = 'Like what you see? Visit the ' +\n",
              "            '<a target=\"_blank\" href=https://colab.research.google.com/notebooks/data_table.ipynb>data table notebook</a>'\n",
              "            + ' to learn more about interactive tables.';\n",
              "          element.innerHTML = '';\n",
              "          dataTable['output_type'] = 'display_data';\n",
              "          await google.colab.output.renderOutput(dataTable, element);\n",
              "          const docLink = document.createElement('div');\n",
              "          docLink.innerHTML = docLinkHtml;\n",
              "          element.appendChild(docLink);\n",
              "        }\n",
              "      </script>\n",
              "    </div>\n",
              "  </div>\n",
              "  "
            ]
          },
          "metadata": {},
          "execution_count": 63
        }
      ]
    },
    {
      "cell_type": "markdown",
      "source": [
        "Seleccionamos las columnas con los accesos por tecnologia, para graficar e identificar las principales tecnologias usadas."
      ],
      "metadata": {
        "id": "xPvcJolVGElU"
      }
    },
    {
      "cell_type": "code",
      "source": [
        "sum_tecnologia=tecnologia_provincia.iloc[:,1:9].sum().sort_values(ascending=False).reset_index()"
      ],
      "metadata": {
        "id": "UMAWBWE4bAsC"
      },
      "execution_count": null,
      "outputs": []
    },
    {
      "cell_type": "markdown",
      "source": [
        "En el gráfico se evidencian las principales tecnologias usadas: cablemodem, fibra optica, ADSL, WIRELESS"
      ],
      "metadata": {
        "id": "jboRMmPmF2A6"
      }
    },
    {
      "cell_type": "code",
      "source": [
        "sns.barplot(x='index',y=0,data=sum_tecnologia.loc[0:3]).set(title='Total accesos por tecnologia')"
      ],
      "metadata": {
        "colab": {
          "base_uri": "https://localhost:8080/",
          "height": 490
        },
        "id": "GPa5mTWEcMiR",
        "outputId": "9d2bfb66-4983-4edb-84d0-1441d7a2d525"
      },
      "execution_count": null,
      "outputs": [
        {
          "output_type": "execute_result",
          "data": {
            "text/plain": [
              "[Text(0.5, 1.0, 'Total accesos por tecnologia')]"
            ]
          },
          "metadata": {},
          "execution_count": 6
        },
        {
          "output_type": "display_data",
          "data": {
            "text/plain": [
              "<Figure size 640x480 with 1 Axes>"
            ],
            "image/png": "[encoded data removed]"
          },
          "metadata": {}
        }
      ]
    },
    {
      "cell_type": "markdown",
      "source": [
        "Extraemos información sobre población en argentina, dispostivos con acceso a internet para identificar oportunidades de negocio, los datos provienen del censo nacional realizado en 2022 y extraidos de la base de datos del gobierno de Argentina. https://www.indec.gob.ar/indec/web/Nivel4-Tema-2-41-165"
      ],
      "metadata": {
        "id": "7jWOsOHAwOcE"
      }
    },
    {
      "cell_type": "code",
      "source": [
        "df2= pd.read_csv('censo argentina 2022.csv',encoding= 'latin1')"
      ],
      "metadata": {
        "id": "_D1AhsU9tQyz"
      },
      "execution_count": null,
      "outputs": []
    },
    {
      "cell_type": "code",
      "source": [
        "df2.info() # los datos tienen el tipo de dato correcto"
      ],
      "metadata": {
        "colab": {
          "base_uri": "https://localhost:8080/"
        },
        "id": "XqFzrfgsw2ke",
        "outputId": "6cd28168-1a16-4d34-8de9-27aa296cbc31"
      },
      "execution_count": null,
      "outputs": [
        {
          "output_type": "stream",
          "name": "stdout",
          "text": [
            "<class 'pandas.core.frame.DataFrame'>\n",
            "RangeIndex: 24 entries, 0 to 23\n",
            "Data columns (total 8 columns):\n",
            " #   Column                           Non-Null Count  Dtype  \n",
            "---  ------                           --------------  -----  \n",
            " 0   Provincia                        24 non-null     object \n",
            " 1   Internet % uso                   24 non-null     float64\n",
            " 2   Celular con internet             24 non-null     float64\n",
            " 3   Computadora tablet etc           24 non-null     float64\n",
            " 4   Total de viviendas particulares  24 non-null     int64  \n",
            " 5   Total de viviendas colectivas    24 non-null     int64  \n",
            " 6   Total de población               24 non-null     int64  \n",
            " 7   TOTAL VIVIENDAS                  24 non-null     int64  \n",
            "dtypes: float64(3), int64(4), object(1)\n",
            "memory usage: 1.6+ KB\n"
          ]
        }
      ]
    },
    {
      "cell_type": "code",
      "source": [
        "df2.head(4) # vemos los primeros 4 registros del df"
      ],
      "metadata": {
        "colab": {
          "base_uri": "https://localhost:8080/",
          "height": 271
        },
        "id": "1QKSg6Qsw-t1",
        "outputId": "763557c0-f236-43b3-f4b7-a5aa202b7f60"
      },
      "execution_count": null,
      "outputs": [
        {
          "output_type": "execute_result",
          "data": {
            "text/plain": [
              "      Provincia  Internet % uso  Celular con internet  Computadora tablet etc  \\\n",
              "0  Buenos Aires            82.1                  91.3                    59.5   \n",
              "1          Caba            90.6                  94.0                    81.3   \n",
              "2     Catamarca            66.8                  85.7                    50.4   \n",
              "3         Chaco            64.0                  83.3                    46.4   \n",
              "\n",
              "   Total de viviendas particulares  Total de viviendas colectivas  \\\n",
              "0                          6695273                           6535   \n",
              "1                          1638764                           1946   \n",
              "2                           158989                            449   \n",
              "3                           401658                            443   \n",
              "\n",
              "   Total de población  TOTAL VIVIENDAS  \n",
              "0            17569053          6701808  \n",
              "1             3120612          1640710  \n",
              "2              429556           159438  \n",
              "3             1142963           402101  "
            ],
            "text/html": [
              "\n",
              "  <div id=\"df-17d6a91d-6b32-4f00-b176-89edc0fc0723\">\n",
              "    <div class=\"colab-df-container\">\n",
              "      <div>\n",
              "<style scoped>\n",
              "    .dataframe tbody tr th:only-of-type {\n",
              "        vertical-align: middle;\n",
              "    }\n",
              "\n",
              "    .dataframe tbody tr th {\n",
              "        vertical-align: top;\n",
              "    }\n",
              "\n",
              "    .dataframe thead th {\n",
              "        text-align: right;\n",
              "    }\n",
              "</style>\n",
              "<table border=\"1\" class=\"dataframe\">\n",
              "  <thead>\n",
              "    <tr style=\"text-align: right;\">\n",
              "      <th></th>\n",
              "      <th>Provincia</th>\n",
              "      <th>Internet % uso</th>\n",
              "      <th>Celular con internet</th>\n",
              "      <th>Computadora tablet etc</th>\n",
              "      <th>Total de viviendas particulares</th>\n",
              "      <th>Total de viviendas colectivas</th>\n",
              "      <th>Total de población</th>\n",
              "      <th>TOTAL VIVIENDAS</th>\n",
              "    </tr>\n",
              "  </thead>\n",
              "  <tbody>\n",
              "    <tr>\n",
              "      <th>0</th>\n",
              "      <td>Buenos Aires</td>\n",
              "      <td>82.1</td>\n",
              "      <td>91.3</td>\n",
              "      <td>59.5</td>\n",
              "      <td>6695273</td>\n",
              "      <td>6535</td>\n",
              "      <td>17569053</td>\n",
              "      <td>6701808</td>\n",
              "    </tr>\n",
              "    <tr>\n",
              "      <th>1</th>\n",
              "      <td>Caba</td>\n",
              "      <td>90.6</td>\n",
              "      <td>94.0</td>\n",
              "      <td>81.3</td>\n",
              "      <td>1638764</td>\n",
              "      <td>1946</td>\n",
              "      <td>3120612</td>\n",
              "      <td>1640710</td>\n",
              "    </tr>\n",
              "    <tr>\n",
              "      <th>2</th>\n",
              "      <td>Catamarca</td>\n",
              "      <td>66.8</td>\n",
              "      <td>85.7</td>\n",
              "      <td>50.4</td>\n",
              "      <td>158989</td>\n",
              "      <td>449</td>\n",
              "      <td>429556</td>\n",
              "      <td>159438</td>\n",
              "    </tr>\n",
              "    <tr>\n",
              "      <th>3</th>\n",
              "      <td>Chaco</td>\n",
              "      <td>64.0</td>\n",
              "      <td>83.3</td>\n",
              "      <td>46.4</td>\n",
              "      <td>401658</td>\n",
              "      <td>443</td>\n",
              "      <td>1142963</td>\n",
              "      <td>402101</td>\n",
              "    </tr>\n",
              "  </tbody>\n",
              "</table>\n",
              "</div>\n",
              "      <button class=\"colab-df-convert\" onclick=\"convertToInteractive('df-17d6a91d-6b32-4f00-b176-89edc0fc0723')\"\n",
              "              title=\"Convert this dataframe to an interactive table.\"\n",
              "              style=\"display:none;\">\n",
              "        \n",
              "  <svg xmlns=\"http://www.w3.org/2000/svg\" height=\"24px\"viewBox=\"0 0 24 24\"\n",
              "       width=\"24px\">\n",
              "    <path d=\"M0 0h24v24H0V0z\" fill=\"none\"/>\n",
              "    <path d=\"M18.56 5.44l.94 2.06.94-2.06 2.06-.94-2.06-.94-.94-2.06-.94 2.06-2.06.94zm-11 1L8.5 8.5l.94-2.06 2.06-.94-2.06-.94L8.5 2.5l-.94 2.06-2.06.94zm10 10l.94 2.06.94-2.06 2.06-.94-2.06-.94-.94-2.06-.94 2.06-2.06.94z\"/><path d=\"M17.41 7.96l-1.37-1.37c-.4-.4-.92-.59-1.43-.59-.52 0-1.04.2-1.43.59L10.3 9.45l-7.72 7.72c-.78.78-.78 2.05 0 2.83L4 21.41c.39.39.9.59 1.41.59.51 0 1.02-.2 1.41-.59l7.78-7.78 2.81-2.81c.8-.78.8-2.07 0-2.86zM5.41 20L4 18.59l7.72-7.72 1.47 1.35L5.41 20z\"/>\n",
              "  </svg>\n",
              "      </button>\n",
              "      \n",
              "  <style>\n",
              "    .colab-df-container {\n",
              "      display:flex;\n",
              "      flex-wrap:wrap;\n",
              "      gap: 12px;\n",
              "    }\n",
              "\n",
              "    .colab-df-convert {\n",
              "      background-color: #E8F0FE;\n",
              "      border: none;\n",
              "      border-radius: 50%;\n",
              "      cursor: pointer;\n",
              "      display: none;\n",
              "      fill: #1967D2;\n",
              "      height: 32px;\n",
              "      padding: 0 0 0 0;\n",
              "      width: 32px;\n",
              "    }\n",
              "\n",
              "    .colab-df-convert:hover {\n",
              "      background-color: #E2EBFA;\n",
              "      box-shadow: 0px 1px 2px rgba(60, 64, 67, 0.3), 0px 1px 3px 1px rgba(60, 64, 67, 0.15);\n",
              "      fill: #174EA6;\n",
              "    }\n",
              "\n",
              "    [theme=dark] .colab-df-convert {\n",
              "      background-color: #3B4455;\n",
              "      fill: #D2E3FC;\n",
              "    }\n",
              "\n",
              "    [theme=dark] .colab-df-convert:hover {\n",
              "      background-color: #434B5C;\n",
              "      box-shadow: 0px 1px 3px 1px rgba(0, 0, 0, 0.15);\n",
              "      filter: drop-shadow(0px 1px 2px rgba(0, 0, 0, 0.3));\n",
              "      fill: #FFFFFF;\n",
              "    }\n",
              "  </style>\n",
              "\n",
              "      <script>\n",
              "        const buttonEl =\n",
              "          document.querySelector('#df-17d6a91d-6b32-4f00-b176-89edc0fc0723 button.colab-df-convert');\n",
              "        buttonEl.style.display =\n",
              "          google.colab.kernel.accessAllowed ? 'block' : 'none';\n",
              "\n",
              "        async function convertToInteractive(key) {\n",
              "          const element = document.querySelector('#df-17d6a91d-6b32-4f00-b176-89edc0fc0723');\n",
              "          const dataTable =\n",
              "            await google.colab.kernel.invokeFunction('convertToInteractive',\n",
              "                                                     [key], {});\n",
              "          if (!dataTable) return;\n",
              "\n",
              "          const docLinkHtml = 'Like what you see? Visit the ' +\n",
              "            '<a target=\"_blank\" href=https://colab.research.google.com/notebooks/data_table.ipynb>data table notebook</a>'\n",
              "            + ' to learn more about interactive tables.';\n",
              "          element.innerHTML = '';\n",
              "          dataTable['output_type'] = 'display_data';\n",
              "          await google.colab.output.renderOutput(dataTable, element);\n",
              "          const docLink = document.createElement('div');\n",
              "          docLink.innerHTML = docLinkHtml;\n",
              "          element.appendChild(docLink);\n",
              "        }\n",
              "      </script>\n",
              "    </div>\n",
              "  </div>\n",
              "  "
            ]
          },
          "metadata": {},
          "execution_count": 30
        }
      ]
    },
    {
      "cell_type": "markdown",
      "source": [
        "Para poder cruzar la información; la columna provincia de los data frame 1 y 2 debe estar escrita igual, procedemos a estandarizar y reemplazar los nombres."
      ],
      "metadata": {
        "id": "wIzL_LeqxdjN"
      }
    },
    {
      "cell_type": "code",
      "source": [
        "diccionario_provincias= {'Córdoba':'Cordoba','Entre Ríos':'Entre Rios','Neuquén':'Neuquen','Río Negro':'Rio Negro','Tucumán':'Tucuman'}"
      ],
      "metadata": {
        "id": "DSjA4cMXyBeB"
      },
      "execution_count": null,
      "outputs": []
    },
    {
      "cell_type": "code",
      "source": [
        "df2.replace(diccionario_provincias,inplace=True)# realizamos el reemplazo de las provincias con tildes por sin tildes"
      ],
      "metadata": {
        "id": "PwYFzrLVy7RM"
      },
      "execution_count": null,
      "outputs": []
    },
    {
      "cell_type": "markdown",
      "source": [
        "El dataframe 1 que contiene las privincias por tecnologia y df con censo, el nombre de la provincia lo escribimos en titulo, primera palabra en mayusculas, lo demás en minusculas."
      ],
      "metadata": {
        "id": "kyzBxi0ozWof"
      }
    },
    {
      "cell_type": "code",
      "source": [
        "tecnologia_provincia['Provincia']= tecnologia_provincia['Provincia'].str.title()"
      ],
      "metadata": {
        "id": "Kdak6ayvzQhr"
      },
      "execution_count": null,
      "outputs": []
    },
    {
      "cell_type": "code",
      "source": [
        "df2['Provincia']= df2['Provincia'].str.title()"
      ],
      "metadata": {
        "id": "zDcyXct3z3EP"
      },
      "execution_count": null,
      "outputs": []
    },
    {
      "cell_type": "markdown",
      "source": [
        "Unimos los dos dataframe"
      ],
      "metadata": {
        "id": "irZVWoVw0oSU"
      }
    },
    {
      "cell_type": "code",
      "source": [
        "censo_tecnologia=df2.merge(tecnologia_provincia,on='Provincia')"
      ],
      "metadata": {
        "id": "KdgsM9mm0qTG"
      },
      "execution_count": null,
      "outputs": []
    },
    {
      "cell_type": "markdown",
      "source": [
        "Generamos la razón entre el total de acceso a internet/ total de vivivienas por provincia de esta manera podemos identificar oportunidades de crecimiento en tecnología."
      ],
      "metadata": {
        "id": "mwG_thBF1KUL"
      }
    },
    {
      "cell_type": "code",
      "source": [
        "censo_tecnologia['acceso/vivienda'] = censo_tecnologia['Total general'] /censo_tecnologia['TOTAL VIVIENDAS']"
      ],
      "metadata": {
        "id": "SBNq7DYl1ZOp"
      },
      "execution_count": null,
      "outputs": []
    },
    {
      "cell_type": "code",
      "source": [
        "censo_tecnologia.head()"
      ],
      "metadata": {
        "colab": {
          "base_uri": "https://localhost:8080/",
          "height": 322
        },
        "id": "ieH_t0FR2CUQ",
        "outputId": "a14f5111-2c88-48a5-b4ab-2539aef38a6e"
      },
      "execution_count": null,
      "outputs": [
        {
          "output_type": "execute_result",
          "data": {
            "text/plain": [
              "      Provincia  Internet % uso  Celular con internet  Computadora tablet etc  \\\n",
              "0  Buenos Aires            82.1                  91.3                    59.5   \n",
              "1          Caba            90.6                  94.0                    81.3   \n",
              "2     Catamarca            66.8                  85.7                    50.4   \n",
              "3         Chaco            64.0                  83.3                    46.4   \n",
              "4        Chubut            79.0                  90.9                    63.7   \n",
              "\n",
              "   Total de viviendas particulares  Total de viviendas colectivas  \\\n",
              "0                          6695273                           6535   \n",
              "1                          1638764                           1946   \n",
              "2                           158989                            449   \n",
              "3                           401658                            443   \n",
              "4                           236010                           1123   \n",
              "\n",
              "   Total de población  TOTAL VIVIENDAS    ADSL  CABLEMODEM  DIAL UP  \\\n",
              "0            17569053          6701808  339648     2748325     6199   \n",
              "1             3120612          1640710  140791     1240125     2145   \n",
              "2              429556           159438   10010       10495        1   \n",
              "3             1142963           402101   27164       61800        5   \n",
              "4              603120           237133   45377       72212      904   \n",
              "\n",
              "   FIBRA OPTICA  SATELITAL  WIMAX  WIRELESS  OTROS  Total general  \\\n",
              "0       1436433       1307   1672    126846  61238        4721668   \n",
              "1        129218         57      0      5758  29585        1547679   \n",
              "2         46224         82      0      1329   2152          70293   \n",
              "3         44645         77      0      8178   2277         144146   \n",
              "4          9574        131      0     29784   7796         165778   \n",
              "\n",
              "   acceso/vivienda  \n",
              "0         0.704536  \n",
              "1         0.943298  \n",
              "2         0.440880  \n",
              "3         0.358482  \n",
              "4         0.699093  "
            ],
            "text/html": [
              "\n",
              "  <div id=\"df-f55dd38c-3ffc-493c-80a7-aebbe79dad8c\">\n",
              "    <div class=\"colab-df-container\">\n",
              "      <div>\n",
              "<style scoped>\n",
              "    .dataframe tbody tr th:only-of-type {\n",
              "        vertical-align: middle;\n",
              "    }\n",
              "\n",
              "    .dataframe tbody tr th {\n",
              "        vertical-align: top;\n",
              "    }\n",
              "\n",
              "    .dataframe thead th {\n",
              "        text-align: right;\n",
              "    }\n",
              "</style>\n",
              "<table border=\"1\" class=\"dataframe\">\n",
              "  <thead>\n",
              "    <tr style=\"text-align: right;\">\n",
              "      <th></th>\n",
              "      <th>Provincia</th>\n",
              "      <th>Internet % uso</th>\n",
              "      <th>Celular con internet</th>\n",
              "      <th>Computadora tablet etc</th>\n",
              "      <th>Total de viviendas particulares</th>\n",
              "      <th>Total de viviendas colectivas</th>\n",
              "      <th>Total de población</th>\n",
              "      <th>TOTAL VIVIENDAS</th>\n",
              "      <th>ADSL</th>\n",
              "      <th>CABLEMODEM</th>\n",
              "      <th>DIAL UP</th>\n",
              "      <th>FIBRA OPTICA</th>\n",
              "      <th>SATELITAL</th>\n",
              "      <th>WIMAX</th>\n",
              "      <th>WIRELESS</th>\n",
              "      <th>OTROS</th>\n",
              "      <th>Total general</th>\n",
              "      <th>acceso/vivienda</th>\n",
              "    </tr>\n",
              "  </thead>\n",
              "  <tbody>\n",
              "    <tr>\n",
              "      <th>0</th>\n",
              "      <td>Buenos Aires</td>\n",
              "      <td>82.1</td>\n",
              "      <td>91.3</td>\n",
              "      <td>59.5</td>\n",
              "      <td>6695273</td>\n",
              "      <td>6535</td>\n",
              "      <td>17569053</td>\n",
              "      <td>6701808</td>\n",
              "      <td>339648</td>\n",
              "      <td>2748325</td>\n",
              "      <td>6199</td>\n",
              "      <td>1436433</td>\n",
              "      <td>1307</td>\n",
              "      <td>1672</td>\n",
              "      <td>126846</td>\n",
              "      <td>61238</td>\n",
              "      <td>4721668</td>\n",
              "      <td>0.704536</td>\n",
              "    </tr>\n",
              "    <tr>\n",
              "      <th>1</th>\n",
              "      <td>Caba</td>\n",
              "      <td>90.6</td>\n",
              "      <td>94.0</td>\n",
              "      <td>81.3</td>\n",
              "      <td>1638764</td>\n",
              "      <td>1946</td>\n",
              "      <td>3120612</td>\n",
              "      <td>1640710</td>\n",
              "      <td>140791</td>\n",
              "      <td>1240125</td>\n",
              "      <td>2145</td>\n",
              "      <td>129218</td>\n",
              "      <td>57</td>\n",
              "      <td>0</td>\n",
              "      <td>5758</td>\n",
              "      <td>29585</td>\n",
              "      <td>1547679</td>\n",
              "      <td>0.943298</td>\n",
              "    </tr>\n",
              "    <tr>\n",
              "      <th>2</th>\n",
              "      <td>Catamarca</td>\n",
              "      <td>66.8</td>\n",
              "      <td>85.7</td>\n",
              "      <td>50.4</td>\n",
              "      <td>158989</td>\n",
              "      <td>449</td>\n",
              "      <td>429556</td>\n",
              "      <td>159438</td>\n",
              "      <td>10010</td>\n",
              "      <td>10495</td>\n",
              "      <td>1</td>\n",
              "      <td>46224</td>\n",
              "      <td>82</td>\n",
              "      <td>0</td>\n",
              "      <td>1329</td>\n",
              "      <td>2152</td>\n",
              "      <td>70293</td>\n",
              "      <td>0.440880</td>\n",
              "    </tr>\n",
              "    <tr>\n",
              "      <th>3</th>\n",
              "      <td>Chaco</td>\n",
              "      <td>64.0</td>\n",
              "      <td>83.3</td>\n",
              "      <td>46.4</td>\n",
              "      <td>401658</td>\n",
              "      <td>443</td>\n",
              "      <td>1142963</td>\n",
              "      <td>402101</td>\n",
              "      <td>27164</td>\n",
              "      <td>61800</td>\n",
              "      <td>5</td>\n",
              "      <td>44645</td>\n",
              "      <td>77</td>\n",
              "      <td>0</td>\n",
              "      <td>8178</td>\n",
              "      <td>2277</td>\n",
              "      <td>144146</td>\n",
              "      <td>0.358482</td>\n",
              "    </tr>\n",
              "    <tr>\n",
              "      <th>4</th>\n",
              "      <td>Chubut</td>\n",
              "      <td>79.0</td>\n",
              "      <td>90.9</td>\n",
              "      <td>63.7</td>\n",
              "      <td>236010</td>\n",
              "      <td>1123</td>\n",
              "      <td>603120</td>\n",
              "      <td>237133</td>\n",
              "      <td>45377</td>\n",
              "      <td>72212</td>\n",
              "      <td>904</td>\n",
              "      <td>9574</td>\n",
              "      <td>131</td>\n",
              "      <td>0</td>\n",
              "      <td>29784</td>\n",
              "      <td>7796</td>\n",
              "      <td>165778</td>\n",
              "      <td>0.699093</td>\n",
              "    </tr>\n",
              "  </tbody>\n",
              "</table>\n",
              "</div>\n",
              "      <button class=\"colab-df-convert\" onclick=\"convertToInteractive('df-f55dd38c-3ffc-493c-80a7-aebbe79dad8c')\"\n",
              "              title=\"Convert this dataframe to an interactive table.\"\n",
              "              style=\"display:none;\">\n",
              "        \n",
              "  <svg xmlns=\"http://www.w3.org/2000/svg\" height=\"24px\"viewBox=\"0 0 24 24\"\n",
              "       width=\"24px\">\n",
              "    <path d=\"M0 0h24v24H0V0z\" fill=\"none\"/>\n",
              "    <path d=\"M18.56 5.44l.94 2.06.94-2.06 2.06-.94-2.06-.94-.94-2.06-.94 2.06-2.06.94zm-11 1L8.5 8.5l.94-2.06 2.06-.94-2.06-.94L8.5 2.5l-.94 2.06-2.06.94zm10 10l.94 2.06.94-2.06 2.06-.94-2.06-.94-.94-2.06-.94 2.06-2.06.94z\"/><path d=\"M17.41 7.96l-1.37-1.37c-.4-.4-.92-.59-1.43-.59-.52 0-1.04.2-1.43.59L10.3 9.45l-7.72 7.72c-.78.78-.78 2.05 0 2.83L4 21.41c.39.39.9.59 1.41.59.51 0 1.02-.2 1.41-.59l7.78-7.78 2.81-2.81c.8-.78.8-2.07 0-2.86zM5.41 20L4 18.59l7.72-7.72 1.47 1.35L5.41 20z\"/>\n",
              "  </svg>\n",
              "      </button>\n",
              "      \n",
              "  <style>\n",
              "    .colab-df-container {\n",
              "      display:flex;\n",
              "      flex-wrap:wrap;\n",
              "      gap: 12px;\n",
              "    }\n",
              "\n",
              "    .colab-df-convert {\n",
              "      background-color: #E8F0FE;\n",
              "      border: none;\n",
              "      border-radius: 50%;\n",
              "      cursor: pointer;\n",
              "      display: none;\n",
              "      fill: #1967D2;\n",
              "      height: 32px;\n",
              "      padding: 0 0 0 0;\n",
              "      width: 32px;\n",
              "    }\n",
              "\n",
              "    .colab-df-convert:hover {\n",
              "      background-color: #E2EBFA;\n",
              "      box-shadow: 0px 1px 2px rgba(60, 64, 67, 0.3), 0px 1px 3px 1px rgba(60, 64, 67, 0.15);\n",
              "      fill: #174EA6;\n",
              "    }\n",
              "\n",
              "    [theme=dark] .colab-df-convert {\n",
              "      background-color: #3B4455;\n",
              "      fill: #D2E3FC;\n",
              "    }\n",
              "\n",
              "    [theme=dark] .colab-df-convert:hover {\n",
              "      background-color: #434B5C;\n",
              "      box-shadow: 0px 1px 3px 1px rgba(0, 0, 0, 0.15);\n",
              "      filter: drop-shadow(0px 1px 2px rgba(0, 0, 0, 0.3));\n",
              "      fill: #FFFFFF;\n",
              "    }\n",
              "  </style>\n",
              "\n",
              "      <script>\n",
              "        const buttonEl =\n",
              "          document.querySelector('#df-f55dd38c-3ffc-493c-80a7-aebbe79dad8c button.colab-df-convert');\n",
              "        buttonEl.style.display =\n",
              "          google.colab.kernel.accessAllowed ? 'block' : 'none';\n",
              "\n",
              "        async function convertToInteractive(key) {\n",
              "          const element = document.querySelector('#df-f55dd38c-3ffc-493c-80a7-aebbe79dad8c');\n",
              "          const dataTable =\n",
              "            await google.colab.kernel.invokeFunction('convertToInteractive',\n",
              "                                                     [key], {});\n",
              "          if (!dataTable) return;\n",
              "\n",
              "          const docLinkHtml = 'Like what you see? Visit the ' +\n",
              "            '<a target=\"_blank\" href=https://colab.research.google.com/notebooks/data_table.ipynb>data table notebook</a>'\n",
              "            + ' to learn more about interactive tables.';\n",
              "          element.innerHTML = '';\n",
              "          dataTable['output_type'] = 'display_data';\n",
              "          await google.colab.output.renderOutput(dataTable, element);\n",
              "          const docLink = document.createElement('div');\n",
              "          docLink.innerHTML = docLinkHtml;\n",
              "          element.appendChild(docLink);\n",
              "        }\n",
              "      </script>\n",
              "    </div>\n",
              "  </div>\n",
              "  "
            ]
          },
          "metadata": {},
          "execution_count": 34
        }
      ]
    },
    {
      "cell_type": "markdown",
      "source": [
        "Identificamos que por provincia el celular es el dispositivo con mayor conexión a internet de acuerdo con los datos del censo nacional 2022, representa un 88 porciento de uso."
      ],
      "metadata": {
        "id": "jUJc4uFIDbrW"
      }
    },
    {
      "cell_type": "code",
      "source": [
        "censo_tecnologia[['Internet % uso','Celular con internet','Computadora tablet etc']].mean()"
      ],
      "metadata": {
        "colab": {
          "base_uri": "https://localhost:8080/"
        },
        "id": "Kvwuo3tTC645",
        "outputId": "c0c00649-acfa-416b-b4f7-92902c83a39b"
      },
      "execution_count": null,
      "outputs": [
        {
          "output_type": "execute_result",
          "data": {
            "text/plain": [
              "Internet % uso            73.066667\n",
              "Celular con internet      88.054167\n",
              "Computadora tablet etc    56.050000\n",
              "dtype: float64"
            ]
          },
          "metadata": {},
          "execution_count": 15
        }
      ]
    },
    {
      "cell_type": "markdown",
      "source": [
        "Ordenamos el df por acceso/vivienda de menor a mayor y graficamos los primeros 4 provincias"
      ],
      "metadata": {
        "id": "pdv53ysH2i5T"
      }
    },
    {
      "cell_type": "code",
      "source": [
        "acceso_viv_orden =censo_tecnologia[['Provincia','acceso/vivienda']].sort_values(by='acceso/vivienda').reset_index(drop=True)"
      ],
      "metadata": {
        "id": "XIyNeK-Q2u6v"
      },
      "execution_count": null,
      "outputs": []
    },
    {
      "cell_type": "markdown",
      "source": [
        "Se identifica que las provincias Formosa, Santiago del estero, Corrientes y chaco son las que tienen un menor indice de relacion acceso de internet por vivienda, el ratio es inferior al 36%, lo que representa una oportunidad para llevar tecnologia de internet en las provincias mencionadas."
      ],
      "metadata": {
        "id": "QydYCInlFnKR"
      }
    },
    {
      "cell_type": "code",
      "source": [
        "sns.barplot(x='Provincia',y='acceso/vivienda',data=acceso_viv_orden.loc[0:3]).set(title='Provincias con menor relación acceso/vivienda')"
      ],
      "metadata": {
        "colab": {
          "base_uri": "https://localhost:8080/",
          "height": 490
        },
        "id": "MJjSobBT3Mym",
        "outputId": "72895904-c739-4b0f-9a7b-39679b19db63"
      },
      "execution_count": null,
      "outputs": [
        {
          "output_type": "execute_result",
          "data": {
            "text/plain": [
              "[Text(0.5, 1.0, 'Provincias con menor relación acceso/vivienda')]"
            ]
          },
          "metadata": {},
          "execution_count": 17
        },
        {
          "output_type": "display_data",
          "data": {
            "text/plain": [
              "<Figure size 640x480 with 1 Axes>"
            ],
            "image/png": "[encoded data removed]"
          },
          "metadata": {}
        }
      ]
    },
    {
      "cell_type": "markdown",
      "source": [
        "Identificamos las tres provincias con menor acceso a través de cablemodem, el cual es la principal tecnologia usada en Argentina.Se identifica además, en la tabla que la tecnologia que reemplaza a cablemodem son fibra optica y ADSL"
      ],
      "metadata": {
        "id": "iX7cdbAS3uhE"
      }
    },
    {
      "cell_type": "code",
      "source": [
        "cablemodem_provincia=censo_tecnologia[['Provincia','CABLEMODEM','FIBRA OPTICA','ADSL','TOTAL VIVIENDAS']].sort_values(by='CABLEMODEM').reset_index().loc[0:2]"
      ],
      "metadata": {
        "id": "4-bQYJXhEuDK"
      },
      "execution_count": null,
      "outputs": []
    },
    {
      "cell_type": "code",
      "source": [
        "cablemodem_provincia.head()"
      ],
      "metadata": {
        "colab": {
          "base_uri": "https://localhost:8080/",
          "height": 143
        },
        "id": "TVvbjSzBOeWz",
        "outputId": "30bef79f-f9da-460c-8b4c-0097ce9eecd6"
      },
      "execution_count": null,
      "outputs": [
        {
          "output_type": "execute_result",
          "data": {
            "text/plain": [
              "   index  Provincia  CABLEMODEM  FIBRA OPTICA   ADSL  TOTAL VIVIENDAS\n",
              "0      2  Catamarca       10495         46224  10010           159438\n",
              "1     23    Tucuman       18518        162345  77738           555801\n",
              "2     17   San Juan       22723         12328  38570           265434"
            ],
            "text/html": [
              "\n",
              "  <div id=\"df-4ae3cb58-478b-4fdc-96e0-3b8894d2f943\">\n",
              "    <div class=\"colab-df-container\">\n",
              "      <div>\n",
              "<style scoped>\n",
              "    .dataframe tbody tr th:only-of-type {\n",
              "        vertical-align: middle;\n",
              "    }\n",
              "\n",
              "    .dataframe tbody tr th {\n",
              "        vertical-align: top;\n",
              "    }\n",
              "\n",
              "    .dataframe thead th {\n",
              "        text-align: right;\n",
              "    }\n",
              "</style>\n",
              "<table border=\"1\" class=\"dataframe\">\n",
              "  <thead>\n",
              "    <tr style=\"text-align: right;\">\n",
              "      <th></th>\n",
              "      <th>index</th>\n",
              "      <th>Provincia</th>\n",
              "      <th>CABLEMODEM</th>\n",
              "      <th>FIBRA OPTICA</th>\n",
              "      <th>ADSL</th>\n",
              "      <th>TOTAL VIVIENDAS</th>\n",
              "    </tr>\n",
              "  </thead>\n",
              "  <tbody>\n",
              "    <tr>\n",
              "      <th>0</th>\n",
              "      <td>2</td>\n",
              "      <td>Catamarca</td>\n",
              "      <td>10495</td>\n",
              "      <td>46224</td>\n",
              "      <td>10010</td>\n",
              "      <td>159438</td>\n",
              "    </tr>\n",
              "    <tr>\n",
              "      <th>1</th>\n",
              "      <td>23</td>\n",
              "      <td>Tucuman</td>\n",
              "      <td>18518</td>\n",
              "      <td>162345</td>\n",
              "      <td>77738</td>\n",
              "      <td>555801</td>\n",
              "    </tr>\n",
              "    <tr>\n",
              "      <th>2</th>\n",
              "      <td>17</td>\n",
              "      <td>San Juan</td>\n",
              "      <td>22723</td>\n",
              "      <td>12328</td>\n",
              "      <td>38570</td>\n",
              "      <td>265434</td>\n",
              "    </tr>\n",
              "  </tbody>\n",
              "</table>\n",
              "</div>\n",
              "      <button class=\"colab-df-convert\" onclick=\"convertToInteractive('df-4ae3cb58-478b-4fdc-96e0-3b8894d2f943')\"\n",
              "              title=\"Convert this dataframe to an interactive table.\"\n",
              "              style=\"display:none;\">\n",
              "        \n",
              "  <svg xmlns=\"http://www.w3.org/2000/svg\" height=\"24px\"viewBox=\"0 0 24 24\"\n",
              "       width=\"24px\">\n",
              "    <path d=\"M0 0h24v24H0V0z\" fill=\"none\"/>\n",
              "    <path d=\"M18.56 5.44l.94 2.06.94-2.06 2.06-.94-2.06-.94-.94-2.06-.94 2.06-2.06.94zm-11 1L8.5 8.5l.94-2.06 2.06-.94-2.06-.94L8.5 2.5l-.94 2.06-2.06.94zm10 10l.94 2.06.94-2.06 2.06-.94-2.06-.94-.94-2.06-.94 2.06-2.06.94z\"/><path d=\"M17.41 7.96l-1.37-1.37c-.4-.4-.92-.59-1.43-.59-.52 0-1.04.2-1.43.59L10.3 9.45l-7.72 7.72c-.78.78-.78 2.05 0 2.83L4 21.41c.39.39.9.59 1.41.59.51 0 1.02-.2 1.41-.59l7.78-7.78 2.81-2.81c.8-.78.8-2.07 0-2.86zM5.41 20L4 18.59l7.72-7.72 1.47 1.35L5.41 20z\"/>\n",
              "  </svg>\n",
              "      </button>\n",
              "      \n",
              "  <style>\n",
              "    .colab-df-container {\n",
              "      display:flex;\n",
              "      flex-wrap:wrap;\n",
              "      gap: 12px;\n",
              "    }\n",
              "\n",
              "    .colab-df-convert {\n",
              "      background-color: #E8F0FE;\n",
              "      border: none;\n",
              "      border-radius: 50%;\n",
              "      cursor: pointer;\n",
              "      display: none;\n",
              "      fill: #1967D2;\n",
              "      height: 32px;\n",
              "      padding: 0 0 0 0;\n",
              "      width: 32px;\n",
              "    }\n",
              "\n",
              "    .colab-df-convert:hover {\n",
              "      background-color: #E2EBFA;\n",
              "      box-shadow: 0px 1px 2px rgba(60, 64, 67, 0.3), 0px 1px 3px 1px rgba(60, 64, 67, 0.15);\n",
              "      fill: #174EA6;\n",
              "    }\n",
              "\n",
              "    [theme=dark] .colab-df-convert {\n",
              "      background-color: #3B4455;\n",
              "      fill: #D2E3FC;\n",
              "    }\n",
              "\n",
              "    [theme=dark] .colab-df-convert:hover {\n",
              "      background-color: #434B5C;\n",
              "      box-shadow: 0px 1px 3px 1px rgba(0, 0, 0, 0.15);\n",
              "      filter: drop-shadow(0px 1px 2px rgba(0, 0, 0, 0.3));\n",
              "      fill: #FFFFFF;\n",
              "    }\n",
              "  </style>\n",
              "\n",
              "      <script>\n",
              "        const buttonEl =\n",
              "          document.querySelector('#df-4ae3cb58-478b-4fdc-96e0-3b8894d2f943 button.colab-df-convert');\n",
              "        buttonEl.style.display =\n",
              "          google.colab.kernel.accessAllowed ? 'block' : 'none';\n",
              "\n",
              "        async function convertToInteractive(key) {\n",
              "          const element = document.querySelector('#df-4ae3cb58-478b-4fdc-96e0-3b8894d2f943');\n",
              "          const dataTable =\n",
              "            await google.colab.kernel.invokeFunction('convertToInteractive',\n",
              "                                                     [key], {});\n",
              "          if (!dataTable) return;\n",
              "\n",
              "          const docLinkHtml = 'Like what you see? Visit the ' +\n",
              "            '<a target=\"_blank\" href=https://colab.research.google.com/notebooks/data_table.ipynb>data table notebook</a>'\n",
              "            + ' to learn more about interactive tables.';\n",
              "          element.innerHTML = '';\n",
              "          dataTable['output_type'] = 'display_data';\n",
              "          await google.colab.output.renderOutput(dataTable, element);\n",
              "          const docLink = document.createElement('div');\n",
              "          docLink.innerHTML = docLinkHtml;\n",
              "          element.appendChild(docLink);\n",
              "        }\n",
              "      </script>\n",
              "    </div>\n",
              "  </div>\n",
              "  "
            ]
          },
          "metadata": {},
          "execution_count": 19
        }
      ]
    },
    {
      "cell_type": "code",
      "source": [
        "\n",
        "sns.barplot(x='Provincia',y='CABLEMODEM',data=cablemodem_provincia).set(title='Total accesos cablemodem en las tres provincia con mayor acceso')"
      ],
      "metadata": {
        "colab": {
          "base_uri": "https://localhost:8080/",
          "height": 490
        },
        "id": "GtHIc1tOK9G9",
        "outputId": "881bed1d-b19d-4661-9bc1-63954c58ed8d"
      },
      "execution_count": null,
      "outputs": [
        {
          "output_type": "execute_result",
          "data": {
            "text/plain": [
              "[Text(0.5, 1.0, 'Total accesos cablemodem en las tres provincia con mayor acceso')]"
            ]
          },
          "metadata": {},
          "execution_count": 20
        },
        {
          "output_type": "display_data",
          "data": {
            "text/plain": [
              "<Figure size 640x480 with 1 Axes>"
            ],
            "image/png": "[encoded data removed]"
          },
          "metadata": {}
        }
      ]
    },
    {
      "cell_type": "markdown",
      "source": [
        "Cargamos y analizamos el archivo internet accesos por tecnologia, la cual contiene información segmentada por provincia, año y trimestre."
      ],
      "metadata": {
        "id": "l8raaNCuWjPs"
      }
    },
    {
      "cell_type": "code",
      "source": [
        "acceos_anio = pd.read_csv('/content/Internet_Accesos-por-tecnologias.csv',thousands='.',sep=';')"
      ],
      "metadata": {
        "id": "hWlAxgKM37tq"
      },
      "execution_count": null,
      "outputs": []
    },
    {
      "cell_type": "code",
      "source": [
        "acceos_anio.head()# vemos los primeros 5 registos"
      ],
      "metadata": {
        "colab": {
          "base_uri": "https://localhost:8080/",
          "height": 206
        },
        "id": "eLYxTbO1HTLJ",
        "outputId": "28070513-b9c7-4cb9-8380-45249f9ab3f9"
      },
      "execution_count": null,
      "outputs": [
        {
          "output_type": "execute_result",
          "data": {
            "text/plain": [
              "    Año  Trimestre        Provincia    ADSL  Cablemodem  Fibra óptica  \\\n",
              "0  2022          3     Buenos Aires  339648     2748325       1436433   \n",
              "1  2022          3  Capital Federal  140791     1240125        129218   \n",
              "2  2022          3        Catamarca   10010       10495         46224   \n",
              "3  2022          3            Chaco   27164       61800         44645   \n",
              "4  2022          3           Chubut   45377       72212          9574   \n",
              "\n",
              "   Wireless  Otros    Total  \n",
              "0    126846  70416  4721668  \n",
              "1      5758  31787  1547679  \n",
              "2      1329   2235    70293  \n",
              "3      8178   2359   144146  \n",
              "4     29784   8831   165778  "
            ],
            "text/html": [
              "\n",
              "  <div id=\"df-302aaa07-4118-4ac7-8f03-a32a19dc94fc\">\n",
              "    <div class=\"colab-df-container\">\n",
              "      <div>\n",
              "<style scoped>\n",
              "    .dataframe tbody tr th:only-of-type {\n",
              "        vertical-align: middle;\n",
              "    }\n",
              "\n",
              "    .dataframe tbody tr th {\n",
              "        vertical-align: top;\n",
              "    }\n",
              "\n",
              "    .dataframe thead th {\n",
              "        text-align: right;\n",
              "    }\n",
              "</style>\n",
              "<table border=\"1\" class=\"dataframe\">\n",
              "  <thead>\n",
              "    <tr style=\"text-align: right;\">\n",
              "      <th></th>\n",
              "      <th>Año</th>\n",
              "      <th>Trimestre</th>\n",
              "      <th>Provincia</th>\n",
              "      <th>ADSL</th>\n",
              "      <th>Cablemodem</th>\n",
              "      <th>Fibra óptica</th>\n",
              "      <th>Wireless</th>\n",
              "      <th>Otros</th>\n",
              "      <th>Total</th>\n",
              "    </tr>\n",
              "  </thead>\n",
              "  <tbody>\n",
              "    <tr>\n",
              "      <th>0</th>\n",
              "      <td>2022</td>\n",
              "      <td>3</td>\n",
              "      <td>Buenos Aires</td>\n",
              "      <td>339648</td>\n",
              "      <td>2748325</td>\n",
              "      <td>1436433</td>\n",
              "      <td>126846</td>\n",
              "      <td>70416</td>\n",
              "      <td>4721668</td>\n",
              "    </tr>\n",
              "    <tr>\n",
              "      <th>1</th>\n",
              "      <td>2022</td>\n",
              "      <td>3</td>\n",
              "      <td>Capital Federal</td>\n",
              "      <td>140791</td>\n",
              "      <td>1240125</td>\n",
              "      <td>129218</td>\n",
              "      <td>5758</td>\n",
              "      <td>31787</td>\n",
              "      <td>1547679</td>\n",
              "    </tr>\n",
              "    <tr>\n",
              "      <th>2</th>\n",
              "      <td>2022</td>\n",
              "      <td>3</td>\n",
              "      <td>Catamarca</td>\n",
              "      <td>10010</td>\n",
              "      <td>10495</td>\n",
              "      <td>46224</td>\n",
              "      <td>1329</td>\n",
              "      <td>2235</td>\n",
              "      <td>70293</td>\n",
              "    </tr>\n",
              "    <tr>\n",
              "      <th>3</th>\n",
              "      <td>2022</td>\n",
              "      <td>3</td>\n",
              "      <td>Chaco</td>\n",
              "      <td>27164</td>\n",
              "      <td>61800</td>\n",
              "      <td>44645</td>\n",
              "      <td>8178</td>\n",
              "      <td>2359</td>\n",
              "      <td>144146</td>\n",
              "    </tr>\n",
              "    <tr>\n",
              "      <th>4</th>\n",
              "      <td>2022</td>\n",
              "      <td>3</td>\n",
              "      <td>Chubut</td>\n",
              "      <td>45377</td>\n",
              "      <td>72212</td>\n",
              "      <td>9574</td>\n",
              "      <td>29784</td>\n",
              "      <td>8831</td>\n",
              "      <td>165778</td>\n",
              "    </tr>\n",
              "  </tbody>\n",
              "</table>\n",
              "</div>\n",
              "      <button class=\"colab-df-convert\" onclick=\"convertToInteractive('df-302aaa07-4118-4ac7-8f03-a32a19dc94fc')\"\n",
              "              title=\"Convert this dataframe to an interactive table.\"\n",
              "              style=\"display:none;\">\n",
              "        \n",
              "  <svg xmlns=\"http://www.w3.org/2000/svg\" height=\"24px\"viewBox=\"0 0 24 24\"\n",
              "       width=\"24px\">\n",
              "    <path d=\"M0 0h24v24H0V0z\" fill=\"none\"/>\n",
              "    <path d=\"M18.56 5.44l.94 2.06.94-2.06 2.06-.94-2.06-.94-.94-2.06-.94 2.06-2.06.94zm-11 1L8.5 8.5l.94-2.06 2.06-.94-2.06-.94L8.5 2.5l-.94 2.06-2.06.94zm10 10l.94 2.06.94-2.06 2.06-.94-2.06-.94-.94-2.06-.94 2.06-2.06.94z\"/><path d=\"M17.41 7.96l-1.37-1.37c-.4-.4-.92-.59-1.43-.59-.52 0-1.04.2-1.43.59L10.3 9.45l-7.72 7.72c-.78.78-.78 2.05 0 2.83L4 21.41c.39.39.9.59 1.41.59.51 0 1.02-.2 1.41-.59l7.78-7.78 2.81-2.81c.8-.78.8-2.07 0-2.86zM5.41 20L4 18.59l7.72-7.72 1.47 1.35L5.41 20z\"/>\n",
              "  </svg>\n",
              "      </button>\n",
              "      \n",
              "  <style>\n",
              "    .colab-df-container {\n",
              "      display:flex;\n",
              "      flex-wrap:wrap;\n",
              "      gap: 12px;\n",
              "    }\n",
              "\n",
              "    .colab-df-convert {\n",
              "      background-color: #E8F0FE;\n",
              "      border: none;\n",
              "      border-radius: 50%;\n",
              "      cursor: pointer;\n",
              "      display: none;\n",
              "      fill: #1967D2;\n",
              "      height: 32px;\n",
              "      padding: 0 0 0 0;\n",
              "      width: 32px;\n",
              "    }\n",
              "\n",
              "    .colab-df-convert:hover {\n",
              "      background-color: #E2EBFA;\n",
              "      box-shadow: 0px 1px 2px rgba(60, 64, 67, 0.3), 0px 1px 3px 1px rgba(60, 64, 67, 0.15);\n",
              "      fill: #174EA6;\n",
              "    }\n",
              "\n",
              "    [theme=dark] .colab-df-convert {\n",
              "      background-color: #3B4455;\n",
              "      fill: #D2E3FC;\n",
              "    }\n",
              "\n",
              "    [theme=dark] .colab-df-convert:hover {\n",
              "      background-color: #434B5C;\n",
              "      box-shadow: 0px 1px 3px 1px rgba(0, 0, 0, 0.15);\n",
              "      filter: drop-shadow(0px 1px 2px rgba(0, 0, 0, 0.3));\n",
              "      fill: #FFFFFF;\n",
              "    }\n",
              "  </style>\n",
              "\n",
              "      <script>\n",
              "        const buttonEl =\n",
              "          document.querySelector('#df-302aaa07-4118-4ac7-8f03-a32a19dc94fc button.colab-df-convert');\n",
              "        buttonEl.style.display =\n",
              "          google.colab.kernel.accessAllowed ? 'block' : 'none';\n",
              "\n",
              "        async function convertToInteractive(key) {\n",
              "          const element = document.querySelector('#df-302aaa07-4118-4ac7-8f03-a32a19dc94fc');\n",
              "          const dataTable =\n",
              "            await google.colab.kernel.invokeFunction('convertToInteractive',\n",
              "                                                     [key], {});\n",
              "          if (!dataTable) return;\n",
              "\n",
              "          const docLinkHtml = 'Like what you see? Visit the ' +\n",
              "            '<a target=\"_blank\" href=https://colab.research.google.com/notebooks/data_table.ipynb>data table notebook</a>'\n",
              "            + ' to learn more about interactive tables.';\n",
              "          element.innerHTML = '';\n",
              "          dataTable['output_type'] = 'display_data';\n",
              "          await google.colab.output.renderOutput(dataTable, element);\n",
              "          const docLink = document.createElement('div');\n",
              "          docLink.innerHTML = docLinkHtml;\n",
              "          element.appendChild(docLink);\n",
              "        }\n",
              "      </script>\n",
              "    </div>\n",
              "  </div>\n",
              "  "
            ]
          },
          "metadata": {},
          "execution_count": 22
        }
      ]
    },
    {
      "cell_type": "code",
      "source": [
        "acceos_anio.info()# se observa que los datos son leidos con el tipo de dato correcto"
      ],
      "metadata": {
        "colab": {
          "base_uri": "https://localhost:8080/"
        },
        "id": "n4QTZLSAWrx6",
        "outputId": "22776866-f462-411a-bfab-25601865722a"
      },
      "execution_count": null,
      "outputs": [
        {
          "output_type": "stream",
          "name": "stdout",
          "text": [
            "<class 'pandas.core.frame.DataFrame'>\n",
            "RangeIndex: 840 entries, 0 to 839\n",
            "Data columns (total 9 columns):\n",
            " #   Column        Non-Null Count  Dtype \n",
            "---  ------        --------------  ----- \n",
            " 0   Año           840 non-null    int64 \n",
            " 1   Trimestre     840 non-null    int64 \n",
            " 2   Provincia     840 non-null    object\n",
            " 3   ADSL          840 non-null    int64 \n",
            " 4   Cablemodem    840 non-null    int64 \n",
            " 5   Fibra óptica  840 non-null    int64 \n",
            " 6   Wireless      840 non-null    int64 \n",
            " 7   Otros         840 non-null    int64 \n",
            " 8   Total         840 non-null    int64 \n",
            "dtypes: int64(8), object(1)\n",
            "memory usage: 59.2+ KB\n"
          ]
        }
      ]
    },
    {
      "cell_type": "code",
      "source": [
        "trim_4 =acceos_anio[acceos_anio['Trimestre']==4]# seleccionamos solo trimestre 4"
      ],
      "metadata": {
        "id": "Va38bZO3XM1A"
      },
      "execution_count": null,
      "outputs": []
    },
    {
      "cell_type": "markdown",
      "source": [
        "Graficamos la tendencia de acceso a internet en las tres provincias con mayor acceso a internet: BUENOS AIRES, CABA,CORDOBA, se observa que Buenos aires presenta un acelerado crecimiento en cuanto accesos, mientras que en CABA la tendencia es constante. Podría explicarse la tendencia en CABA a que como se observa en la tabla, la relación acceso/vivienda es mayor al 94% se entenderia que; en CABA se llego al limite en cuanto a accesos por vivienda."
      ],
      "metadata": {
        "id": "mPgDpHmlbNER"
      }
    },
    {
      "cell_type": "code",
      "source": [
        "sns.lineplot(x='Año',y='Total',data=trim_4[trim_4['Provincia']=='Buenos Aires'],label='Buenos Aires');\n",
        "sns.lineplot(x='Año',y='Total',data=trim_4[trim_4['Provincia']=='Capital Federal'],label='Capital Fed');\n",
        "sns.lineplot(x='Año',y='Total',data=trim_4[trim_4['Provincia']=='Córdoba'],label='Córdoba')"
      ],
      "metadata": {
        "colab": {
          "base_uri": "https://localhost:8080/",
          "height": 483
        },
        "id": "Oq0seFl-bdkv",
        "outputId": "713fa94d-bd42-44d0-cd80-d1f04c16ba9c"
      },
      "execution_count": null,
      "outputs": [
        {
          "output_type": "execute_result",
          "data": {
            "text/plain": [
              "<Axes: xlabel='Año', ylabel='Total'>"
            ]
          },
          "metadata": {},
          "execution_count": 25
        },
        {
          "output_type": "display_data",
          "data": {
            "text/plain": [
              "<Figure size 640x480 with 1 Axes>"
            ],
            "image/png": "[encoded data removed]"
          },
          "metadata": {}
        }
      ]
    },
    {
      "cell_type": "code",
      "source": [
        "censo_tecnologia[['Provincia','acceso/vivienda','Total general']].sort_values(by='Total general',ascending=False).reset_index(drop=True).loc[0:2]"
      ],
      "metadata": {
        "colab": {
          "base_uri": "https://localhost:8080/",
          "height": 143
        },
        "id": "OrzoilWmeJ5N",
        "outputId": "98dea447-4835-4401-bc5b-2ed20421596c"
      },
      "execution_count": null,
      "outputs": [
        {
          "output_type": "execute_result",
          "data": {
            "text/plain": [
              "      Provincia  acceso/vivienda  Total general\n",
              "0  Buenos Aires         0.704536        4721668\n",
              "1          Caba         0.943298        1547679\n",
              "2       Cordoba         0.635697        1038668"
            ],
            "text/html": [
              "\n",
              "  <div id=\"df-33357428-cc91-435f-9d01-de9dff1050e9\">\n",
              "    <div class=\"colab-df-container\">\n",
              "      <div>\n",
              "<style scoped>\n",
              "    .dataframe tbody tr th:only-of-type {\n",
              "        vertical-align: middle;\n",
              "    }\n",
              "\n",
              "    .dataframe tbody tr th {\n",
              "        vertical-align: top;\n",
              "    }\n",
              "\n",
              "    .dataframe thead th {\n",
              "        text-align: right;\n",
              "    }\n",
              "</style>\n",
              "<table border=\"1\" class=\"dataframe\">\n",
              "  <thead>\n",
              "    <tr style=\"text-align: right;\">\n",
              "      <th></th>\n",
              "      <th>Provincia</th>\n",
              "      <th>acceso/vivienda</th>\n",
              "      <th>Total general</th>\n",
              "    </tr>\n",
              "  </thead>\n",
              "  <tbody>\n",
              "    <tr>\n",
              "      <th>0</th>\n",
              "      <td>Buenos Aires</td>\n",
              "      <td>0.704536</td>\n",
              "      <td>4721668</td>\n",
              "    </tr>\n",
              "    <tr>\n",
              "      <th>1</th>\n",
              "      <td>Caba</td>\n",
              "      <td>0.943298</td>\n",
              "      <td>1547679</td>\n",
              "    </tr>\n",
              "    <tr>\n",
              "      <th>2</th>\n",
              "      <td>Cordoba</td>\n",
              "      <td>0.635697</td>\n",
              "      <td>1038668</td>\n",
              "    </tr>\n",
              "  </tbody>\n",
              "</table>\n",
              "</div>\n",
              "      <button class=\"colab-df-convert\" onclick=\"convertToInteractive('df-33357428-cc91-435f-9d01-de9dff1050e9')\"\n",
              "              title=\"Convert this dataframe to an interactive table.\"\n",
              "              style=\"display:none;\">\n",
              "        \n",
              "  <svg xmlns=\"http://www.w3.org/2000/svg\" height=\"24px\"viewBox=\"0 0 24 24\"\n",
              "       width=\"24px\">\n",
              "    <path d=\"M0 0h24v24H0V0z\" fill=\"none\"/>\n",
              "    <path d=\"M18.56 5.44l.94 2.06.94-2.06 2.06-.94-2.06-.94-.94-2.06-.94 2.06-2.06.94zm-11 1L8.5 8.5l.94-2.06 2.06-.94-2.06-.94L8.5 2.5l-.94 2.06-2.06.94zm10 10l.94 2.06.94-2.06 2.06-.94-2.06-.94-.94-2.06-.94 2.06-2.06.94z\"/><path d=\"M17.41 7.96l-1.37-1.37c-.4-.4-.92-.59-1.43-.59-.52 0-1.04.2-1.43.59L10.3 9.45l-7.72 7.72c-.78.78-.78 2.05 0 2.83L4 21.41c.39.39.9.59 1.41.59.51 0 1.02-.2 1.41-.59l7.78-7.78 2.81-2.81c.8-.78.8-2.07 0-2.86zM5.41 20L4 18.59l7.72-7.72 1.47 1.35L5.41 20z\"/>\n",
              "  </svg>\n",
              "      </button>\n",
              "      \n",
              "  <style>\n",
              "    .colab-df-container {\n",
              "      display:flex;\n",
              "      flex-wrap:wrap;\n",
              "      gap: 12px;\n",
              "    }\n",
              "\n",
              "    .colab-df-convert {\n",
              "      background-color: #E8F0FE;\n",
              "      border: none;\n",
              "      border-radius: 50%;\n",
              "      cursor: pointer;\n",
              "      display: none;\n",
              "      fill: #1967D2;\n",
              "      height: 32px;\n",
              "      padding: 0 0 0 0;\n",
              "      width: 32px;\n",
              "    }\n",
              "\n",
              "    .colab-df-convert:hover {\n",
              "      background-color: #E2EBFA;\n",
              "      box-shadow: 0px 1px 2px rgba(60, 64, 67, 0.3), 0px 1px 3px 1px rgba(60, 64, 67, 0.15);\n",
              "      fill: #174EA6;\n",
              "    }\n",
              "\n",
              "    [theme=dark] .colab-df-convert {\n",
              "      background-color: #3B4455;\n",
              "      fill: #D2E3FC;\n",
              "    }\n",
              "\n",
              "    [theme=dark] .colab-df-convert:hover {\n",
              "      background-color: #434B5C;\n",
              "      box-shadow: 0px 1px 3px 1px rgba(0, 0, 0, 0.15);\n",
              "      filter: drop-shadow(0px 1px 2px rgba(0, 0, 0, 0.3));\n",
              "      fill: #FFFFFF;\n",
              "    }\n",
              "  </style>\n",
              "\n",
              "      <script>\n",
              "        const buttonEl =\n",
              "          document.querySelector('#df-33357428-cc91-435f-9d01-de9dff1050e9 button.colab-df-convert');\n",
              "        buttonEl.style.display =\n",
              "          google.colab.kernel.accessAllowed ? 'block' : 'none';\n",
              "\n",
              "        async function convertToInteractive(key) {\n",
              "          const element = document.querySelector('#df-33357428-cc91-435f-9d01-de9dff1050e9');\n",
              "          const dataTable =\n",
              "            await google.colab.kernel.invokeFunction('convertToInteractive',\n",
              "                                                     [key], {});\n",
              "          if (!dataTable) return;\n",
              "\n",
              "          const docLinkHtml = 'Like what you see? Visit the ' +\n",
              "            '<a target=\"_blank\" href=https://colab.research.google.com/notebooks/data_table.ipynb>data table notebook</a>'\n",
              "            + ' to learn more about interactive tables.';\n",
              "          element.innerHTML = '';\n",
              "          dataTable['output_type'] = 'display_data';\n",
              "          await google.colab.output.renderOutput(dataTable, element);\n",
              "          const docLink = document.createElement('div');\n",
              "          docLink.innerHTML = docLinkHtml;\n",
              "          element.appendChild(docLink);\n",
              "        }\n",
              "      </script>\n",
              "    </div>\n",
              "  </div>\n",
              "  "
            ]
          },
          "metadata": {},
          "execution_count": 26
        }
      ]
    },
    {
      "cell_type": "markdown",
      "source": [
        "KPI 1: Alcanzar una relacción de acceso de internet por numero total de vivienda en la provincia de Córdoba del 80% para el año 2024"
      ],
      "metadata": {
        "id": "SSYXndAVf4b4"
      }
    },
    {
      "cell_type": "markdown",
      "source": [
        "Cargamos el dataframe de internet ingresos"
      ],
      "metadata": {
        "id": "jg1xHZUFckHJ"
      }
    },
    {
      "cell_type": "code",
      "source": [
        "ingresos = pd.read_csv('/content/Internet_Ingresos.csv',thousands='.')"
      ],
      "metadata": {
        "id": "QYk2_0r9gV5X"
      },
      "execution_count": null,
      "outputs": []
    },
    {
      "cell_type": "code",
      "source": [
        "ingresos.head()#vemos los primeros 5 registros"
      ],
      "metadata": {
        "colab": {
          "base_uri": "https://localhost:8080/",
          "height": 206
        },
        "id": "0ozqdQSlcb_q",
        "outputId": "82800fe4-2bb3-4bb5-f334-2db242496813"
      },
      "execution_count": null,
      "outputs": [
        {
          "output_type": "execute_result",
          "data": {
            "text/plain": [
              "    Año  Trimestre  Ingresos (miles de pesos)        Periodo\n",
              "0  2022          3                   67055930  Jul-Sept 2022\n",
              "1  2022          2                   60335724   Abr-Jun 2022\n",
              "2  2022          1                   55589997   Ene-Mar 2022\n",
              "3  2021          4                   45467887   Oct-Dic 2021\n",
              "4  2021          3                   42999944  Jul-Sept 2021"
            ],
            "text/html": [
              "\n",
              "  <div id=\"df-a9f01a58-2110-47f6-8b47-f99e29bf19f1\">\n",
              "    <div class=\"colab-df-container\">\n",
              "      <div>\n",
              "<style scoped>\n",
              "    .dataframe tbody tr th:only-of-type {\n",
              "        vertical-align: middle;\n",
              "    }\n",
              "\n",
              "    .dataframe tbody tr th {\n",
              "        vertical-align: top;\n",
              "    }\n",
              "\n",
              "    .dataframe thead th {\n",
              "        text-align: right;\n",
              "    }\n",
              "</style>\n",
              "<table border=\"1\" class=\"dataframe\">\n",
              "  <thead>\n",
              "    <tr style=\"text-align: right;\">\n",
              "      <th></th>\n",
              "      <th>Año</th>\n",
              "      <th>Trimestre</th>\n",
              "      <th>Ingresos (miles de pesos)</th>\n",
              "      <th>Periodo</th>\n",
              "    </tr>\n",
              "  </thead>\n",
              "  <tbody>\n",
              "    <tr>\n",
              "      <th>0</th>\n",
              "      <td>2022</td>\n",
              "      <td>3</td>\n",
              "      <td>67055930</td>\n",
              "      <td>Jul-Sept 2022</td>\n",
              "    </tr>\n",
              "    <tr>\n",
              "      <th>1</th>\n",
              "      <td>2022</td>\n",
              "      <td>2</td>\n",
              "      <td>60335724</td>\n",
              "      <td>Abr-Jun 2022</td>\n",
              "    </tr>\n",
              "    <tr>\n",
              "      <th>2</th>\n",
              "      <td>2022</td>\n",
              "      <td>1</td>\n",
              "      <td>55589997</td>\n",
              "      <td>Ene-Mar 2022</td>\n",
              "    </tr>\n",
              "    <tr>\n",
              "      <th>3</th>\n",
              "      <td>2021</td>\n",
              "      <td>4</td>\n",
              "      <td>45467887</td>\n",
              "      <td>Oct-Dic 2021</td>\n",
              "    </tr>\n",
              "    <tr>\n",
              "      <th>4</th>\n",
              "      <td>2021</td>\n",
              "      <td>3</td>\n",
              "      <td>42999944</td>\n",
              "      <td>Jul-Sept 2021</td>\n",
              "    </tr>\n",
              "  </tbody>\n",
              "</table>\n",
              "</div>\n",
              "      <button class=\"colab-df-convert\" onclick=\"convertToInteractive('df-a9f01a58-2110-47f6-8b47-f99e29bf19f1')\"\n",
              "              title=\"Convert this dataframe to an interactive table.\"\n",
              "              style=\"display:none;\">\n",
              "        \n",
              "  <svg xmlns=\"http://www.w3.org/2000/svg\" height=\"24px\"viewBox=\"0 0 24 24\"\n",
              "       width=\"24px\">\n",
              "    <path d=\"M0 0h24v24H0V0z\" fill=\"none\"/>\n",
              "    <path d=\"M18.56 5.44l.94 2.06.94-2.06 2.06-.94-2.06-.94-.94-2.06-.94 2.06-2.06.94zm-11 1L8.5 8.5l.94-2.06 2.06-.94-2.06-.94L8.5 2.5l-.94 2.06-2.06.94zm10 10l.94 2.06.94-2.06 2.06-.94-2.06-.94-.94-2.06-.94 2.06-2.06.94z\"/><path d=\"M17.41 7.96l-1.37-1.37c-.4-.4-.92-.59-1.43-.59-.52 0-1.04.2-1.43.59L10.3 9.45l-7.72 7.72c-.78.78-.78 2.05 0 2.83L4 21.41c.39.39.9.59 1.41.59.51 0 1.02-.2 1.41-.59l7.78-7.78 2.81-2.81c.8-.78.8-2.07 0-2.86zM5.41 20L4 18.59l7.72-7.72 1.47 1.35L5.41 20z\"/>\n",
              "  </svg>\n",
              "      </button>\n",
              "      \n",
              "  <style>\n",
              "    .colab-df-container {\n",
              "      display:flex;\n",
              "      flex-wrap:wrap;\n",
              "      gap: 12px;\n",
              "    }\n",
              "\n",
              "    .colab-df-convert {\n",
              "      background-color: #E8F0FE;\n",
              "      border: none;\n",
              "      border-radius: 50%;\n",
              "      cursor: pointer;\n",
              "      display: none;\n",
              "      fill: #1967D2;\n",
              "      height: 32px;\n",
              "      padding: 0 0 0 0;\n",
              "      width: 32px;\n",
              "    }\n",
              "\n",
              "    .colab-df-convert:hover {\n",
              "      background-color: #E2EBFA;\n",
              "      box-shadow: 0px 1px 2px rgba(60, 64, 67, 0.3), 0px 1px 3px 1px rgba(60, 64, 67, 0.15);\n",
              "      fill: #174EA6;\n",
              "    }\n",
              "\n",
              "    [theme=dark] .colab-df-convert {\n",
              "      background-color: #3B4455;\n",
              "      fill: #D2E3FC;\n",
              "    }\n",
              "\n",
              "    [theme=dark] .colab-df-convert:hover {\n",
              "      background-color: #434B5C;\n",
              "      box-shadow: 0px 1px 3px 1px rgba(0, 0, 0, 0.15);\n",
              "      filter: drop-shadow(0px 1px 2px rgba(0, 0, 0, 0.3));\n",
              "      fill: #FFFFFF;\n",
              "    }\n",
              "  </style>\n",
              "\n",
              "      <script>\n",
              "        const buttonEl =\n",
              "          document.querySelector('#df-a9f01a58-2110-47f6-8b47-f99e29bf19f1 button.colab-df-convert');\n",
              "        buttonEl.style.display =\n",
              "          google.colab.kernel.accessAllowed ? 'block' : 'none';\n",
              "\n",
              "        async function convertToInteractive(key) {\n",
              "          const element = document.querySelector('#df-a9f01a58-2110-47f6-8b47-f99e29bf19f1');\n",
              "          const dataTable =\n",
              "            await google.colab.kernel.invokeFunction('convertToInteractive',\n",
              "                                                     [key], {});\n",
              "          if (!dataTable) return;\n",
              "\n",
              "          const docLinkHtml = 'Like what you see? Visit the ' +\n",
              "            '<a target=\"_blank\" href=https://colab.research.google.com/notebooks/data_table.ipynb>data table notebook</a>'\n",
              "            + ' to learn more about interactive tables.';\n",
              "          element.innerHTML = '';\n",
              "          dataTable['output_type'] = 'display_data';\n",
              "          await google.colab.output.renderOutput(dataTable, element);\n",
              "          const docLink = document.createElement('div');\n",
              "          docLink.innerHTML = docLinkHtml;\n",
              "          element.appendChild(docLink);\n",
              "        }\n",
              "      </script>\n",
              "    </div>\n",
              "  </div>\n",
              "  "
            ]
          },
          "metadata": {},
          "execution_count": 28
        }
      ]
    },
    {
      "cell_type": "markdown",
      "source": [
        "generamos un dataframe con los ingresos por año solo para trimestre 4"
      ],
      "metadata": {
        "id": "_gnU4qiFcsCG"
      }
    },
    {
      "cell_type": "code",
      "source": [
        "ing_t4=ingresos[ingresos['Trimestre']==4]"
      ],
      "metadata": {
        "id": "4Ja9XABycrcV"
      },
      "execution_count": null,
      "outputs": []
    },
    {
      "cell_type": "markdown",
      "source": [
        "Observamos que a partir del año 2018 se evidencia un incremento acelerado de los ingresos por concepto de internet en el intervalo de tiempo 2014-2021."
      ],
      "metadata": {
        "id": "WbcQfDxJjyBo"
      }
    },
    {
      "cell_type": "code",
      "source": [
        "sns.lineplot(x = 'Año',y='Ingresos (miles de pesos)', data=ing_t4).set(title='Ingresos por año acceso a internet Argentina')"
      ],
      "metadata": {
        "colab": {
          "base_uri": "https://localhost:8080/",
          "height": 490
        },
        "id": "bJxQ_cu4jcFl",
        "outputId": "5820b24e-2b26-4667-b235-c3633c12cea7"
      },
      "execution_count": null,
      "outputs": [
        {
          "output_type": "execute_result",
          "data": {
            "text/plain": [
              "[Text(0.5, 1.0, 'Ingresos por año acceso a internet Argentina')]"
            ]
          },
          "metadata": {},
          "execution_count": 31
        },
        {
          "output_type": "display_data",
          "data": {
            "text/plain": [
              "<Figure size 640x480 with 1 Axes>"
            ],
            "image/png": "[encoded data removed]"
          },
          "metadata": {}
        }
      ]
    },
    {
      "cell_type": "markdown",
      "source": [
        "Cargamos datos que contienen historico de velocidad media de bajada en mbps"
      ],
      "metadata": {
        "id": "r9uWzSiGdLQF"
      }
    },
    {
      "cell_type": "code",
      "source": [
        "historico_velocidad = pd.read_csv('/content/historico_velocidad_internet (1).csv')"
      ],
      "metadata": {
        "id": "cc5vTU1fdNhf"
      },
      "execution_count": null,
      "outputs": []
    },
    {
      "cell_type": "code",
      "source": [
        "historico_velocidad.head()#vemos los primeros 5 registros"
      ],
      "metadata": {
        "colab": {
          "base_uri": "https://localhost:8080/",
          "height": 206
        },
        "id": "CBIkJy6ddTTo",
        "outputId": "3d6f1527-2edd-4fbd-9463-47db2f1f97c3"
      },
      "execution_count": null,
      "outputs": [
        {
          "output_type": "execute_result",
          "data": {
            "text/plain": [
              "    Año  Trimestre        Provincia  Mbps (Media de bajada)  Unnamed: 4  \\\n",
              "0  2022          3     Buenos Aires                      70         NaN   \n",
              "1  2022          3  Capital Federal                     101         NaN   \n",
              "2  2022          3        Catamarca                      61         NaN   \n",
              "3  2022          3            Chaco                      53         NaN   \n",
              "4  2022          3           Chubut                      16         NaN   \n",
              "\n",
              "   Unnamed: 5  \n",
              "0         NaN  \n",
              "1         NaN  \n",
              "2         NaN  \n",
              "3         NaN  \n",
              "4         NaN  "
            ],
            "text/html": [
              "\n",
              "  <div id=\"df-cf09f3d5-a05e-46f6-837b-532b584d6583\">\n",
              "    <div class=\"colab-df-container\">\n",
              "      <div>\n",
              "<style scoped>\n",
              "    .dataframe tbody tr th:only-of-type {\n",
              "        vertical-align: middle;\n",
              "    }\n",
              "\n",
              "    .dataframe tbody tr th {\n",
              "        vertical-align: top;\n",
              "    }\n",
              "\n",
              "    .dataframe thead th {\n",
              "        text-align: right;\n",
              "    }\n",
              "</style>\n",
              "<table border=\"1\" class=\"dataframe\">\n",
              "  <thead>\n",
              "    <tr style=\"text-align: right;\">\n",
              "      <th></th>\n",
              "      <th>Año</th>\n",
              "      <th>Trimestre</th>\n",
              "      <th>Provincia</th>\n",
              "      <th>Mbps (Media de bajada)</th>\n",
              "      <th>Unnamed: 4</th>\n",
              "      <th>Unnamed: 5</th>\n",
              "    </tr>\n",
              "  </thead>\n",
              "  <tbody>\n",
              "    <tr>\n",
              "      <th>0</th>\n",
              "      <td>2022</td>\n",
              "      <td>3</td>\n",
              "      <td>Buenos Aires</td>\n",
              "      <td>70</td>\n",
              "      <td>NaN</td>\n",
              "      <td>NaN</td>\n",
              "    </tr>\n",
              "    <tr>\n",
              "      <th>1</th>\n",
              "      <td>2022</td>\n",
              "      <td>3</td>\n",
              "      <td>Capital Federal</td>\n",
              "      <td>101</td>\n",
              "      <td>NaN</td>\n",
              "      <td>NaN</td>\n",
              "    </tr>\n",
              "    <tr>\n",
              "      <th>2</th>\n",
              "      <td>2022</td>\n",
              "      <td>3</td>\n",
              "      <td>Catamarca</td>\n",
              "      <td>61</td>\n",
              "      <td>NaN</td>\n",
              "      <td>NaN</td>\n",
              "    </tr>\n",
              "    <tr>\n",
              "      <th>3</th>\n",
              "      <td>2022</td>\n",
              "      <td>3</td>\n",
              "      <td>Chaco</td>\n",
              "      <td>53</td>\n",
              "      <td>NaN</td>\n",
              "      <td>NaN</td>\n",
              "    </tr>\n",
              "    <tr>\n",
              "      <th>4</th>\n",
              "      <td>2022</td>\n",
              "      <td>3</td>\n",
              "      <td>Chubut</td>\n",
              "      <td>16</td>\n",
              "      <td>NaN</td>\n",
              "      <td>NaN</td>\n",
              "    </tr>\n",
              "  </tbody>\n",
              "</table>\n",
              "</div>\n",
              "      <button class=\"colab-df-convert\" onclick=\"convertToInteractive('df-cf09f3d5-a05e-46f6-837b-532b584d6583')\"\n",
              "              title=\"Convert this dataframe to an interactive table.\"\n",
              "              style=\"display:none;\">\n",
              "        \n",
              "  <svg xmlns=\"http://www.w3.org/2000/svg\" height=\"24px\"viewBox=\"0 0 24 24\"\n",
              "       width=\"24px\">\n",
              "    <path d=\"M0 0h24v24H0V0z\" fill=\"none\"/>\n",
              "    <path d=\"M18.56 5.44l.94 2.06.94-2.06 2.06-.94-2.06-.94-.94-2.06-.94 2.06-2.06.94zm-11 1L8.5 8.5l.94-2.06 2.06-.94-2.06-.94L8.5 2.5l-.94 2.06-2.06.94zm10 10l.94 2.06.94-2.06 2.06-.94-2.06-.94-.94-2.06-.94 2.06-2.06.94z\"/><path d=\"M17.41 7.96l-1.37-1.37c-.4-.4-.92-.59-1.43-.59-.52 0-1.04.2-1.43.59L10.3 9.45l-7.72 7.72c-.78.78-.78 2.05 0 2.83L4 21.41c.39.39.9.59 1.41.59.51 0 1.02-.2 1.41-.59l7.78-7.78 2.81-2.81c.8-.78.8-2.07 0-2.86zM5.41 20L4 18.59l7.72-7.72 1.47 1.35L5.41 20z\"/>\n",
              "  </svg>\n",
              "      </button>\n",
              "      \n",
              "  <style>\n",
              "    .colab-df-container {\n",
              "      display:flex;\n",
              "      flex-wrap:wrap;\n",
              "      gap: 12px;\n",
              "    }\n",
              "\n",
              "    .colab-df-convert {\n",
              "      background-color: #E8F0FE;\n",
              "      border: none;\n",
              "      border-radius: 50%;\n",
              "      cursor: pointer;\n",
              "      display: none;\n",
              "      fill: #1967D2;\n",
              "      height: 32px;\n",
              "      padding: 0 0 0 0;\n",
              "      width: 32px;\n",
              "    }\n",
              "\n",
              "    .colab-df-convert:hover {\n",
              "      background-color: #E2EBFA;\n",
              "      box-shadow: 0px 1px 2px rgba(60, 64, 67, 0.3), 0px 1px 3px 1px rgba(60, 64, 67, 0.15);\n",
              "      fill: #174EA6;\n",
              "    }\n",
              "\n",
              "    [theme=dark] .colab-df-convert {\n",
              "      background-color: #3B4455;\n",
              "      fill: #D2E3FC;\n",
              "    }\n",
              "\n",
              "    [theme=dark] .colab-df-convert:hover {\n",
              "      background-color: #434B5C;\n",
              "      box-shadow: 0px 1px 3px 1px rgba(0, 0, 0, 0.15);\n",
              "      filter: drop-shadow(0px 1px 2px rgba(0, 0, 0, 0.3));\n",
              "      fill: #FFFFFF;\n",
              "    }\n",
              "  </style>\n",
              "\n",
              "      <script>\n",
              "        const buttonEl =\n",
              "          document.querySelector('#df-cf09f3d5-a05e-46f6-837b-532b584d6583 button.colab-df-convert');\n",
              "        buttonEl.style.display =\n",
              "          google.colab.kernel.accessAllowed ? 'block' : 'none';\n",
              "\n",
              "        async function convertToInteractive(key) {\n",
              "          const element = document.querySelector('#df-cf09f3d5-a05e-46f6-837b-532b584d6583');\n",
              "          const dataTable =\n",
              "            await google.colab.kernel.invokeFunction('convertToInteractive',\n",
              "                                                     [key], {});\n",
              "          if (!dataTable) return;\n",
              "\n",
              "          const docLinkHtml = 'Like what you see? Visit the ' +\n",
              "            '<a target=\"_blank\" href=https://colab.research.google.com/notebooks/data_table.ipynb>data table notebook</a>'\n",
              "            + ' to learn more about interactive tables.';\n",
              "          element.innerHTML = '';\n",
              "          dataTable['output_type'] = 'display_data';\n",
              "          await google.colab.output.renderOutput(dataTable, element);\n",
              "          const docLink = document.createElement('div');\n",
              "          docLink.innerHTML = docLinkHtml;\n",
              "          element.appendChild(docLink);\n",
              "        }\n",
              "      </script>\n",
              "    </div>\n",
              "  </div>\n",
              "  "
            ]
          },
          "metadata": {},
          "execution_count": 33
        }
      ]
    },
    {
      "cell_type": "markdown",
      "source": [
        "Para hacer el analisis tomamos solo trimestre 4"
      ],
      "metadata": {
        "id": "JSVQCXKbfzMx"
      }
    },
    {
      "cell_type": "code",
      "source": [
        "his_vel_4=historico_velocidad[historico_velocidad['Trimestre']==4]"
      ],
      "metadata": {
        "id": "gjNpPGuUd_WB"
      },
      "execution_count": null,
      "outputs": []
    },
    {
      "cell_type": "markdown",
      "source": [
        "Agrupamos por año y obtenemos la media de mbps"
      ],
      "metadata": {
        "id": "C9RuPTy7f4sf"
      }
    },
    {
      "cell_type": "code",
      "source": [
        "agrupacion_anio=his_vel_4.groupby('Año').mean()['Mbps (Media de bajada)'].reset_index()"
      ],
      "metadata": {
        "colab": {
          "base_uri": "https://localhost:8080/"
        },
        "id": "2MAEB_oVd4FV",
        "outputId": "62219738-fd5c-471a-b645-06a61b558397"
      },
      "execution_count": null,
      "outputs": [
        {
          "output_type": "stream",
          "name": "stderr",
          "text": [
            "<ipython-input-35-90544b86f130>:1: FutureWarning: The default value of numeric_only in DataFrameGroupBy.mean is deprecated. In a future version, numeric_only will default to False. Either specify numeric_only or select only columns which should be valid for the function.\n",
            "  agrupacion_anio=his_vel_4.groupby('Año').mean()['Mbps (Media de bajada)'].reset_index()\n"
          ]
        }
      ]
    },
    {
      "cell_type": "markdown",
      "source": [
        "Generamos un dataframe con media de bajada de mbps por año e ingresos por año"
      ],
      "metadata": {
        "id": "vCKq-hKxgUiJ"
      }
    },
    {
      "cell_type": "code",
      "source": [
        "ingre_mbps=agrupacion_anio.merge(ing_t4,on='Año')"
      ],
      "metadata": {
        "id": "OL4KtwxNgaq4"
      },
      "execution_count": null,
      "outputs": []
    },
    {
      "cell_type": "code",
      "source": [
        "ingre_mbps.head()"
      ],
      "metadata": {
        "colab": {
          "base_uri": "https://localhost:8080/",
          "height": 206
        },
        "id": "T98ubR0hfg-d",
        "outputId": "a761eaf9-8843-417f-fcd7-8c34d34bca8d"
      },
      "execution_count": null,
      "outputs": [
        {
          "output_type": "execute_result",
          "data": {
            "text/plain": [
              "    Año  Mbps (Media de bajada)  Trimestre  Ingresos (miles de pesos)  \\\n",
              "0  2014                3.666667          4                    3950441   \n",
              "1  2015                4.416667          4                    5376899   \n",
              "2  2016                5.083333          4                    7483980   \n",
              "3  2017                8.416667          4                   11226127   \n",
              "4  2018               10.541667          4                   16637687   \n",
              "\n",
              "        Periodo  \n",
              "0  Oct-Dic 2014  \n",
              "1  Oct-Dic 2015  \n",
              "2  Oct-Dic 2016  \n",
              "3  Oct-Dic 2017  \n",
              "4  Oct-Dic 2018  "
            ],
            "text/html": [
              "\n",
              "  <div id=\"df-105be370-e95a-4bf1-a05a-9aabf8082a67\">\n",
              "    <div class=\"colab-df-container\">\n",
              "      <div>\n",
              "<style scoped>\n",
              "    .dataframe tbody tr th:only-of-type {\n",
              "        vertical-align: middle;\n",
              "    }\n",
              "\n",
              "    .dataframe tbody tr th {\n",
              "        vertical-align: top;\n",
              "    }\n",
              "\n",
              "    .dataframe thead th {\n",
              "        text-align: right;\n",
              "    }\n",
              "</style>\n",
              "<table border=\"1\" class=\"dataframe\">\n",
              "  <thead>\n",
              "    <tr style=\"text-align: right;\">\n",
              "      <th></th>\n",
              "      <th>Año</th>\n",
              "      <th>Mbps (Media de bajada)</th>\n",
              "      <th>Trimestre</th>\n",
              "      <th>Ingresos (miles de pesos)</th>\n",
              "      <th>Periodo</th>\n",
              "    </tr>\n",
              "  </thead>\n",
              "  <tbody>\n",
              "    <tr>\n",
              "      <th>0</th>\n",
              "      <td>2014</td>\n",
              "      <td>3.666667</td>\n",
              "      <td>4</td>\n",
              "      <td>3950441</td>\n",
              "      <td>Oct-Dic 2014</td>\n",
              "    </tr>\n",
              "    <tr>\n",
              "      <th>1</th>\n",
              "      <td>2015</td>\n",
              "      <td>4.416667</td>\n",
              "      <td>4</td>\n",
              "      <td>5376899</td>\n",
              "      <td>Oct-Dic 2015</td>\n",
              "    </tr>\n",
              "    <tr>\n",
              "      <th>2</th>\n",
              "      <td>2016</td>\n",
              "      <td>5.083333</td>\n",
              "      <td>4</td>\n",
              "      <td>7483980</td>\n",
              "      <td>Oct-Dic 2016</td>\n",
              "    </tr>\n",
              "    <tr>\n",
              "      <th>3</th>\n",
              "      <td>2017</td>\n",
              "      <td>8.416667</td>\n",
              "      <td>4</td>\n",
              "      <td>11226127</td>\n",
              "      <td>Oct-Dic 2017</td>\n",
              "    </tr>\n",
              "    <tr>\n",
              "      <th>4</th>\n",
              "      <td>2018</td>\n",
              "      <td>10.541667</td>\n",
              "      <td>4</td>\n",
              "      <td>16637687</td>\n",
              "      <td>Oct-Dic 2018</td>\n",
              "    </tr>\n",
              "  </tbody>\n",
              "</table>\n",
              "</div>\n",
              "      <button class=\"colab-df-convert\" onclick=\"convertToInteractive('df-105be370-e95a-4bf1-a05a-9aabf8082a67')\"\n",
              "              title=\"Convert this dataframe to an interactive table.\"\n",
              "              style=\"display:none;\">\n",
              "        \n",
              "  <svg xmlns=\"http://www.w3.org/2000/svg\" height=\"24px\"viewBox=\"0 0 24 24\"\n",
              "       width=\"24px\">\n",
              "    <path d=\"M0 0h24v24H0V0z\" fill=\"none\"/>\n",
              "    <path d=\"M18.56 5.44l.94 2.06.94-2.06 2.06-.94-2.06-.94-.94-2.06-.94 2.06-2.06.94zm-11 1L8.5 8.5l.94-2.06 2.06-.94-2.06-.94L8.5 2.5l-.94 2.06-2.06.94zm10 10l.94 2.06.94-2.06 2.06-.94-2.06-.94-.94-2.06-.94 2.06-2.06.94z\"/><path d=\"M17.41 7.96l-1.37-1.37c-.4-.4-.92-.59-1.43-.59-.52 0-1.04.2-1.43.59L10.3 9.45l-7.72 7.72c-.78.78-.78 2.05 0 2.83L4 21.41c.39.39.9.59 1.41.59.51 0 1.02-.2 1.41-.59l7.78-7.78 2.81-2.81c.8-.78.8-2.07 0-2.86zM5.41 20L4 18.59l7.72-7.72 1.47 1.35L5.41 20z\"/>\n",
              "  </svg>\n",
              "      </button>\n",
              "      \n",
              "  <style>\n",
              "    .colab-df-container {\n",
              "      display:flex;\n",
              "      flex-wrap:wrap;\n",
              "      gap: 12px;\n",
              "    }\n",
              "\n",
              "    .colab-df-convert {\n",
              "      background-color: #E8F0FE;\n",
              "      border: none;\n",
              "      border-radius: 50%;\n",
              "      cursor: pointer;\n",
              "      display: none;\n",
              "      fill: #1967D2;\n",
              "      height: 32px;\n",
              "      padding: 0 0 0 0;\n",
              "      width: 32px;\n",
              "    }\n",
              "\n",
              "    .colab-df-convert:hover {\n",
              "      background-color: #E2EBFA;\n",
              "      box-shadow: 0px 1px 2px rgba(60, 64, 67, 0.3), 0px 1px 3px 1px rgba(60, 64, 67, 0.15);\n",
              "      fill: #174EA6;\n",
              "    }\n",
              "\n",
              "    [theme=dark] .colab-df-convert {\n",
              "      background-color: #3B4455;\n",
              "      fill: #D2E3FC;\n",
              "    }\n",
              "\n",
              "    [theme=dark] .colab-df-convert:hover {\n",
              "      background-color: #434B5C;\n",
              "      box-shadow: 0px 1px 3px 1px rgba(0, 0, 0, 0.15);\n",
              "      filter: drop-shadow(0px 1px 2px rgba(0, 0, 0, 0.3));\n",
              "      fill: #FFFFFF;\n",
              "    }\n",
              "  </style>\n",
              "\n",
              "      <script>\n",
              "        const buttonEl =\n",
              "          document.querySelector('#df-105be370-e95a-4bf1-a05a-9aabf8082a67 button.colab-df-convert');\n",
              "        buttonEl.style.display =\n",
              "          google.colab.kernel.accessAllowed ? 'block' : 'none';\n",
              "\n",
              "        async function convertToInteractive(key) {\n",
              "          const element = document.querySelector('#df-105be370-e95a-4bf1-a05a-9aabf8082a67');\n",
              "          const dataTable =\n",
              "            await google.colab.kernel.invokeFunction('convertToInteractive',\n",
              "                                                     [key], {});\n",
              "          if (!dataTable) return;\n",
              "\n",
              "          const docLinkHtml = 'Like what you see? Visit the ' +\n",
              "            '<a target=\"_blank\" href=https://colab.research.google.com/notebooks/data_table.ipynb>data table notebook</a>'\n",
              "            + ' to learn more about interactive tables.';\n",
              "          element.innerHTML = '';\n",
              "          dataTable['output_type'] = 'display_data';\n",
              "          await google.colab.output.renderOutput(dataTable, element);\n",
              "          const docLink = document.createElement('div');\n",
              "          docLink.innerHTML = docLinkHtml;\n",
              "          element.appendChild(docLink);\n",
              "        }\n",
              "      </script>\n",
              "    </div>\n",
              "  </div>\n",
              "  "
            ]
          },
          "metadata": {},
          "execution_count": 37
        }
      ]
    },
    {
      "cell_type": "markdown",
      "source": [
        "Miramos si existe correlacion entre la media de bajada y los ingresos, se tiene como hipotesis que a mayor mbps mayor ingreso, calculamos la correlacion."
      ],
      "metadata": {
        "id": "PxEwz2Wwg1Xh"
      }
    },
    {
      "cell_type": "code",
      "source": [
        "sns.scatterplot(x='Mbps (Media de bajada)',y='Ingresos (miles de pesos)',data=ingre_mbps).set(title='Mbps vs Ingresos por accesoa internet')"
      ],
      "metadata": {
        "colab": {
          "base_uri": "https://localhost:8080/",
          "height": 490
        },
        "id": "1YooNWl7g5F0",
        "outputId": "45a877a5-47b0-4048-90de-5bc4aa112f5f"
      },
      "execution_count": null,
      "outputs": [
        {
          "output_type": "execute_result",
          "data": {
            "text/plain": [
              "[Text(0.5, 1.0, 'Mbps vs Ingresos por accesoa internet')]"
            ]
          },
          "metadata": {},
          "execution_count": 39
        },
        {
          "output_type": "display_data",
          "data": {
            "text/plain": [
              "<Figure size 640x480 with 1 Axes>"
            ],
            "image/png": "[encoded data removed]"
          },
          "metadata": {}
        }
      ]
    },
    {
      "cell_type": "code",
      "source": [
        "datos = ingre_mbps[['Mbps (Media de bajada)','Ingresos (miles de pesos)']]"
      ],
      "metadata": {
        "id": "szGR9B5JiQNQ"
      },
      "execution_count": null,
      "outputs": []
    },
    {
      "cell_type": "markdown",
      "source": [
        "vemos que existe una fuerte correlacion entre la media de bajada de mbps con respecto a los ingresos"
      ],
      "metadata": {
        "id": "pr646B8wjQp2"
      }
    },
    {
      "cell_type": "code",
      "source": [
        "np.corrcoef(datos.T)[1,0]"
      ],
      "metadata": {
        "colab": {
          "base_uri": "https://localhost:8080/"
        },
        "id": "AOfK6SPfhrBg",
        "outputId": "6c54bf95-cada-4e58-ec03-49dad76801bd"
      },
      "execution_count": null,
      "outputs": [
        {
          "output_type": "execute_result",
          "data": {
            "text/plain": [
              "0.9979832542349767"
            ]
          },
          "metadata": {},
          "execution_count": 41
        }
      ]
    }
  ]
}